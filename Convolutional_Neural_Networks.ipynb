{
  "nbformat": 4,
  "nbformat_minor": 0,
  "metadata": {
    "colab": {
      "name": "Convolutional Neural Networks.ipynb",
      "provenance": [],
      "collapsed_sections": [],
      "authorship_tag": "ABX9TyN9e7Omi3kdaca1DiZ5GPeE",
      "include_colab_link": true
    },
    "kernelspec": {
      "name": "python3",
      "display_name": "Python 3"
    },
    "accelerator": "GPU"
  },
  "cells": [
    {
      "cell_type": "markdown",
      "metadata": {
        "id": "view-in-github",
        "colab_type": "text"
      },
      "source": [
        "<a href=\"https://colab.research.google.com/github/alexc6h6/Image-Classification-CNN/blob/master/Convolutional_Neural_Networks.ipynb\" target=\"_parent\"><img src=\"https://colab.research.google.com/assets/colab-badge.svg\" alt=\"Open In Colab\"/></a>"
      ]
    },
    {
      "cell_type": "markdown",
      "metadata": {
        "id": "rI1eFKI0WxHd",
        "colab_type": "text"
      },
      "source": [
        "# Convolutional Neural Network\n",
        "\n",
        "Convolutional neural network is one of deep neural network which most commonly be applied in image classification, object detecttion, natural language processing and time series analysis. \n",
        "\n"
      ]
    },
    {
      "cell_type": "markdown",
      "metadata": {
        "id": "thGJGrINX1Du",
        "colab_type": "text"
      },
      "source": [
        "\n",
        "# Convolutional layer\n",
        "\n",
        "Generally, an image have three channels — red, green and blue, each having pixel values in the range 0 to 255.\n",
        "\n",
        "The primary purpose of a convolution in CNN is to extract features from the input image. Applying a convolution to an image is like running a filter of a certain dimension and sliding it on top of the image. That operation is translated into an element-wise multiplication between the two matrices and finally an addition of the multiplication outputs.\n",
        "\n",
        "\n",
        "![alt text](https://cdn-images-1.medium.com/max/900/1*7S266Kq-UCExS25iX_I_AQ.png)\n",
        "\n",
        "\n",
        "The filter moved with a stride of 1 and covered the whole image from edge to edge. However, the output image is shrinking on every convolution and lose some information related to the edge of the image because the pixels on the edges are scanned less by the filter than the pixels within the center of image.\n",
        "\n",
        "'Same' padding which put the image with zeros all around its border to allow the filter to slide on top and maintain the output size equal to the input. \n",
        "\n",
        "![alt text](https://cdn-images-1.medium.com/max/513/1*PBnmjdDqn-OF8JEyRgKm9Q.png)\n",
        "\n",
        "\n",
        "the formula to calculate the output size, knowing the filter size (f), stride (s), pad (p), and input size (n):\n",
        "\n",
        "![alt text](https://cdn-images-1.medium.com/max/948/1*rOyHQ2teFXX5rIIFHwYDsg.png)"
      ]
    },
    {
      "cell_type": "markdown",
      "metadata": {
        "id": "0Qk22mGKZ7Vl",
        "colab_type": "text"
      },
      "source": [
        "# Pooling Layers\n",
        "\n",
        "Max pooling: slide the filter through the input and take the largest element within the region covered by the filter.\n",
        "\n",
        "Average pooling: retains the average of the values encountered within the filter.\n",
        "\n",
        "\n",
        "![alt text](https://cdn-images-1.medium.com/max/757/1*voEBfjohEDVRK7RpNvxd-Q.png)\n",
        "\n",
        "\n",
        "\n"
      ]
    },
    {
      "cell_type": "markdown",
      "metadata": {
        "id": "53wZ5F35gE0s",
        "colab_type": "text"
      },
      "source": [
        "The example of a Convolutional Neural Network:\n",
        "\n",
        "![alt text](https://cdn-images-1.medium.com/max/900/1*_l-0PeSh3oL2Wc2ri2sVWA.png)\n",
        "\n",
        "Convolutional neural networks is to have Convolutional layers, one or more, followed by a pooling layer, and then again one or more CONV layers followed by a pooling layer and, at the end, a few FC layers followed by a softmax for classification.\n",
        "\n",
        "Normally, the deeper into the network, the sizes (nh, nw) decrease, while the number of channels (nc) increases. For each filter  in convolutional layers that detect certain pattern to extract the features from the images.\n",
        "\n"
      ]
    },
    {
      "cell_type": "code",
      "metadata": {
        "id": "HL0fQJYYEGDz",
        "colab_type": "code",
        "outputId": "7d651e4b-58f6-404b-a734-0feef47a1bdb",
        "colab": {
          "base_uri": "https://localhost:8080/",
          "height": 34
        }
      },
      "source": [
        "\n",
        "from google.colab import drive\n",
        "import pandas as pd\n",
        "import numpy as np\n",
        "import matplotlib.pyplot as plt\n",
        "import cv2\n",
        "import os\n",
        "from glob import glob\n",
        "import tensorflow as tf\n",
        "from tensorflow.keras.preprocessing.image import ImageDataGenerator\n",
        "from tensorflow.keras.callbacks import ReduceLROnPlateau\n",
        "from tensorflow.keras.layers import Conv2D, MaxPooling2D, Flatten, Dense, Activation, BatchNormalization, Dropout\n",
        "from tensorflow.keras import regularizers\n",
        "from tensorflow.keras.models import Sequential\n",
        "from keras.utils import to_categorical\n",
        "from sklearn.preprocessing import LabelEncoder, OneHotEncoder\n",
        "from sklearn.model_selection import train_test_split\n",
        "from google.colab.patches import cv2_imshow\n",
        "\n",
        "print(tf.__version__)"
      ],
      "execution_count": 24,
      "outputs": [
        {
          "output_type": "stream",
          "text": [
            "2.2.0\n"
          ],
          "name": "stdout"
        }
      ]
    },
    {
      "cell_type": "code",
      "metadata": {
        "id": "NZgVh0oqDdvH",
        "colab_type": "code",
        "outputId": "95f120b8-d378-488d-9eea-18be9aa95e53",
        "colab": {
          "base_uri": "https://localhost:8080/",
          "height": 122
        }
      },
      "source": [
        "drive.mount('/content/drive')"
      ],
      "execution_count": 3,
      "outputs": [
        {
          "output_type": "stream",
          "text": [
            "Go to this URL in a browser: https://accounts.google.com/o/oauth2/auth?client_id=947318989803-6bn6qk8qdgf4n4g3pfee6491hc0brc4i.apps.googleusercontent.com&redirect_uri=urn%3aietf%3awg%3aoauth%3a2.0%3aoob&response_type=code&scope=email%20https%3a%2f%2fwww.googleapis.com%2fauth%2fdocs.test%20https%3a%2f%2fwww.googleapis.com%2fauth%2fdrive%20https%3a%2f%2fwww.googleapis.com%2fauth%2fdrive.photos.readonly%20https%3a%2f%2fwww.googleapis.com%2fauth%2fpeopleapi.readonly\n",
            "\n",
            "Enter your authorization code:\n",
            "··········\n",
            "Mounted at /content/drive\n"
          ],
          "name": "stdout"
        }
      ]
    },
    {
      "cell_type": "code",
      "metadata": {
        "id": "gCpHVzsiartK",
        "colab_type": "code",
        "colab": {}
      },
      "source": [
        "#!pip install --upgrade tensorflow"
      ],
      "execution_count": 0,
      "outputs": []
    },
    {
      "cell_type": "markdown",
      "metadata": {
        "id": "p7VrEJaUf_A4",
        "colab_type": "text"
      },
      "source": [
        "# MNIST\n",
        "\n",
        "MNIST dataset, which is a digit recognition would be loading for CNN classification.\n",
        "\n",
        "![alt text](https://www.researchgate.net/profile/Guy_Mayraz/publication/2540340/figure/fig1/AS:279612820082697@1443676299495/Examples-of-2s-in-the-MNIST-database-first-100-examples-Note-the-very-diverse.png)"
      ]
    },
    {
      "cell_type": "code",
      "metadata": {
        "id": "zwxe-2fYZ1uo",
        "colab_type": "code",
        "colab": {}
      },
      "source": [
        "#load training and testing data\n",
        "train = pd.read_csv('/content/drive/My Drive/digit_recognizer/train.csv')\n",
        "test = pd.read_csv('/content/drive/My Drive/digit_recognizer/test.csv')"
      ],
      "execution_count": 0,
      "outputs": []
    },
    {
      "cell_type": "code",
      "metadata": {
        "id": "K0gBX67-Jvnr",
        "colab_type": "code",
        "colab": {}
      },
      "source": [
        "labels = train.iloc[:, 0]\n",
        "\n",
        "images = train.iloc[:, 1:]\n",
        "train_images = images.values.reshape(-1, 28, 28, 1)\n",
        "test_images = test.values.reshape(-1, 28, 28, 1)"
      ],
      "execution_count": 0,
      "outputs": []
    },
    {
      "cell_type": "code",
      "metadata": {
        "id": "i0l1Gtkkbg0T",
        "colab_type": "code",
        "outputId": "2283f5e6-887c-4e35-aa0b-c2921fffdb6e",
        "colab": {
          "base_uri": "https://localhost:8080/",
          "height": 68
        }
      },
      "source": [
        "print(labels.shape)\n",
        "print(train_images.shape)\n",
        "print(test_images.shape)"
      ],
      "execution_count": 7,
      "outputs": [
        {
          "output_type": "stream",
          "text": [
            "(42000,)\n",
            "(42000, 28, 28, 1)\n",
            "(28000, 28, 28, 1)\n"
          ],
          "name": "stdout"
        }
      ]
    },
    {
      "cell_type": "code",
      "metadata": {
        "id": "pFfvHCQgbhCw",
        "colab_type": "code",
        "outputId": "04f1ec24-2ac8-43f1-a024-4b746897dcb6",
        "colab": {
          "base_uri": "https://localhost:8080/",
          "height": 282
        }
      },
      "source": [
        "plt.imshow(train_images[0][:,:,0])\n",
        "print('The Number is : '+ str(labels[0]))"
      ],
      "execution_count": 8,
      "outputs": [
        {
          "output_type": "stream",
          "text": [
            "The Number is : 1\n"
          ],
          "name": "stdout"
        },
        {
          "output_type": "display_data",
          "data": {
            "image/png": "[encoded data removed]",
            "text/plain": [
              "<Figure size 432x288 with 1 Axes>"
            ]
          },
          "metadata": {
            "tags": [],
            "needs_background": "light"
          }
        }
      ]
    },
    {
      "cell_type": "code",
      "metadata": {
        "id": "RgrTyAwLbhKD",
        "colab_type": "code",
        "colab": {}
      },
      "source": [
        "#normalize image\n",
        "train_images = train_images/255\n",
        "test_images = test_images/255"
      ],
      "execution_count": 0,
      "outputs": []
    },
    {
      "cell_type": "code",
      "metadata": {
        "id": "lJHOsvzLbhP-",
        "colab_type": "code",
        "outputId": "9faddca7-d2b3-4989-ea76-c5b7004a07e6",
        "colab": {
          "base_uri": "https://localhost:8080/",
          "height": 204
        }
      },
      "source": [
        "#transform label in to one_hot code\n",
        "labels = to_categorical(labels)\n",
        "print(labels.shape)\n",
        "print(labels[:10])"
      ],
      "execution_count": 10,
      "outputs": [
        {
          "output_type": "stream",
          "text": [
            "(42000, 10)\n",
            "[[0. 1. 0. 0. 0. 0. 0. 0. 0. 0.]\n",
            " [1. 0. 0. 0. 0. 0. 0. 0. 0. 0.]\n",
            " [0. 1. 0. 0. 0. 0. 0. 0. 0. 0.]\n",
            " [0. 0. 0. 0. 1. 0. 0. 0. 0. 0.]\n",
            " [1. 0. 0. 0. 0. 0. 0. 0. 0. 0.]\n",
            " [1. 0. 0. 0. 0. 0. 0. 0. 0. 0.]\n",
            " [0. 0. 0. 0. 0. 0. 0. 1. 0. 0.]\n",
            " [0. 0. 0. 1. 0. 0. 0. 0. 0. 0.]\n",
            " [0. 0. 0. 0. 0. 1. 0. 0. 0. 0.]\n",
            " [0. 0. 0. 1. 0. 0. 0. 0. 0. 0.]]\n"
          ],
          "name": "stdout"
        }
      ]
    },
    {
      "cell_type": "code",
      "metadata": {
        "id": "hifOIZQ0bhxb",
        "colab_type": "code",
        "colab": {}
      },
      "source": [
        "#split dataset into training and validation dataset\n",
        "x_train, x_val, y_train, y_val = train_test_split(train_images, labels, test_size = 0.2)"
      ],
      "execution_count": 0,
      "outputs": []
    },
    {
      "cell_type": "code",
      "metadata": {
        "id": "5zbBCQ0mLKCO",
        "colab_type": "code",
        "outputId": "69beb768-fb4d-44bb-a899-3fedf3d552be",
        "colab": {
          "base_uri": "https://localhost:8080/",
          "height": 833
        }
      },
      "source": [
        "model = tf.keras.models.Sequential([Conv2D(64, (3,3), strides = 1, padding = 'same',\n",
        "                                          activation = 'relu', input_shape = (28, 28, 1)),\n",
        "                                   BatchNormalization(),\n",
        "                                   MaxPooling2D((2,2)),\n",
        "                                   Conv2D(128, (3,3), strides = 1, padding = 'same',\n",
        "                                          activation = 'relu'),\n",
        "                                   BatchNormalization(),\n",
        "                                   MaxPooling2D(2,2),\n",
        "                                   Conv2D(256, (3,3), strides = 1, padding = 'same',\n",
        "                                          activation = 'relu'),\n",
        "                                   BatchNormalization(),\n",
        "                                   MaxPooling2D(2,2),\n",
        "                                   Flatten(),\n",
        "                                   Dropout(0.25),\n",
        "                                   Dense(units = 512, kernel_regularizer = regularizers.l2(0.1)),\n",
        "                                   BatchNormalization(),\n",
        "                                   Activation('relu'),\n",
        "                                   Dropout(0.25),\n",
        "                                   Dense(units = 256, kernel_regularizer = regularizers.l2(0.1)),\n",
        "                                   BatchNormalization(),\n",
        "                                   Activation('relu'),\n",
        "                                   Dropout(0.25),\n",
        "                                   Dense(units = 10, activation = 'softmax')])\n",
        "\n",
        "model.compile(optimizer = 'adam', loss = 'categorical_crossentropy', metrics = ['accuracy'])\n",
        "\n",
        "model.summary()"
      ],
      "execution_count": 12,
      "outputs": [
        {
          "output_type": "stream",
          "text": [
            "Model: \"sequential\"\n",
            "_________________________________________________________________\n",
            "Layer (type)                 Output Shape              Param #   \n",
            "=================================================================\n",
            "conv2d (Conv2D)              (None, 28, 28, 64)        640       \n",
            "_________________________________________________________________\n",
            "batch_normalization (BatchNo (None, 28, 28, 64)        256       \n",
            "_________________________________________________________________\n",
            "max_pooling2d (MaxPooling2D) (None, 14, 14, 64)        0         \n",
            "_________________________________________________________________\n",
            "conv2d_1 (Conv2D)            (None, 14, 14, 128)       73856     \n",
            "_________________________________________________________________\n",
            "batch_normalization_1 (Batch (None, 14, 14, 128)       512       \n",
            "_________________________________________________________________\n",
            "max_pooling2d_1 (MaxPooling2 (None, 7, 7, 128)         0         \n",
            "_________________________________________________________________\n",
            "conv2d_2 (Conv2D)            (None, 7, 7, 256)         295168    \n",
            "_________________________________________________________________\n",
            "batch_normalization_2 (Batch (None, 7, 7, 256)         1024      \n",
            "_________________________________________________________________\n",
            "max_pooling2d_2 (MaxPooling2 (None, 3, 3, 256)         0         \n",
            "_________________________________________________________________\n",
            "flatten (Flatten)            (None, 2304)              0         \n",
            "_________________________________________________________________\n",
            "dropout (Dropout)            (None, 2304)              0         \n",
            "_________________________________________________________________\n",
            "dense (Dense)                (None, 512)               1180160   \n",
            "_________________________________________________________________\n",
            "batch_normalization_3 (Batch (None, 512)               2048      \n",
            "_________________________________________________________________\n",
            "activation (Activation)      (None, 512)               0         \n",
            "_________________________________________________________________\n",
            "dropout_1 (Dropout)          (None, 512)               0         \n",
            "_________________________________________________________________\n",
            "dense_1 (Dense)              (None, 256)               131328    \n",
            "_________________________________________________________________\n",
            "batch_normalization_4 (Batch (None, 256)               1024      \n",
            "_________________________________________________________________\n",
            "activation_1 (Activation)    (None, 256)               0         \n",
            "_________________________________________________________________\n",
            "dropout_2 (Dropout)          (None, 256)               0         \n",
            "_________________________________________________________________\n",
            "dense_2 (Dense)              (None, 10)                2570      \n",
            "=================================================================\n",
            "Total params: 1,688,586\n",
            "Trainable params: 1,686,154\n",
            "Non-trainable params: 2,432\n",
            "_________________________________________________________________\n"
          ],
          "name": "stdout"
        }
      ]
    },
    {
      "cell_type": "code",
      "metadata": {
        "id": "xuQrdt5IdonC",
        "colab_type": "code",
        "colab": {}
      },
      "source": [
        "#reduce learning rate on plateau\n",
        "reduce_lr = ReduceLROnPlateau(monitor = 'val_loss', \n",
        "                              patience = 5, \n",
        "                              verbose = 1, \n",
        "                              factor = 0.033,\n",
        "                              min_lr = 0.000001)"
      ],
      "execution_count": 0,
      "outputs": []
    },
    {
      "cell_type": "code",
      "metadata": {
        "id": "zztvJC6Qdosk",
        "colab_type": "code",
        "outputId": "2ce15482-6173-4665-975d-91641f909770",
        "colab": {
          "base_uri": "https://localhost:8080/",
          "height": 1000
        }
      },
      "source": [
        "#training\n",
        "epochs = 50\n",
        "batch = 512\n",
        "\n",
        "history = model.fit(x_train, y_train, \n",
        "                    verbose = 1,\n",
        "                    batch_size = batch,\n",
        "                    epochs = epochs,\n",
        "                    validation_data = (x_val, y_val),\n",
        "                    callbacks = [reduce_lr])"
      ],
      "execution_count": 14,
      "outputs": [
        {
          "output_type": "stream",
          "text": [
            "Epoch 1/50\n",
            "66/66 [==============================] - 6s 96ms/step - loss: 30.2856 - accuracy: 0.9110 - val_loss: 4.5997 - val_accuracy: 0.1160 - lr: 0.0010\n",
            "Epoch 2/50\n",
            "66/66 [==============================] - 5s 82ms/step - loss: 0.9323 - accuracy: 0.9755 - val_loss: 2.5969 - val_accuracy: 0.1720 - lr: 0.0010\n",
            "Epoch 3/50\n",
            "66/66 [==============================] - 5s 81ms/step - loss: 0.3781 - accuracy: 0.9771 - val_loss: 2.3900 - val_accuracy: 0.2298 - lr: 0.0010\n",
            "Epoch 4/50\n",
            "66/66 [==============================] - 5s 82ms/step - loss: 0.3475 - accuracy: 0.9790 - val_loss: 2.1166 - val_accuracy: 0.3033 - lr: 0.0010\n",
            "Epoch 5/50\n",
            "66/66 [==============================] - 5s 82ms/step - loss: 0.3215 - accuracy: 0.9811 - val_loss: 2.0622 - val_accuracy: 0.3074 - lr: 0.0010\n",
            "Epoch 6/50\n",
            "66/66 [==============================] - 5s 82ms/step - loss: 0.3260 - accuracy: 0.9820 - val_loss: 1.5139 - val_accuracy: 0.5099 - lr: 0.0010\n",
            "Epoch 7/50\n",
            "66/66 [==============================] - 5s 82ms/step - loss: 0.3073 - accuracy: 0.9832 - val_loss: 0.7419 - val_accuracy: 0.8488 - lr: 0.0010\n",
            "Epoch 8/50\n",
            "66/66 [==============================] - 5s 83ms/step - loss: 0.3062 - accuracy: 0.9836 - val_loss: 0.5079 - val_accuracy: 0.9318 - lr: 0.0010\n",
            "Epoch 9/50\n",
            "66/66 [==============================] - 5s 83ms/step - loss: 0.2915 - accuracy: 0.9858 - val_loss: 0.3051 - val_accuracy: 0.9835 - lr: 0.0010\n",
            "Epoch 10/50\n",
            "66/66 [==============================] - 5s 83ms/step - loss: 0.2842 - accuracy: 0.9868 - val_loss: 0.4461 - val_accuracy: 0.9449 - lr: 0.0010\n",
            "Epoch 11/50\n",
            "66/66 [==============================] - 5s 82ms/step - loss: 0.2974 - accuracy: 0.9856 - val_loss: 0.4134 - val_accuracy: 0.9502 - lr: 0.0010\n",
            "Epoch 12/50\n",
            "66/66 [==============================] - 5s 83ms/step - loss: 0.2623 - accuracy: 0.9878 - val_loss: 0.3822 - val_accuracy: 0.9495 - lr: 0.0010\n",
            "Epoch 13/50\n",
            "66/66 [==============================] - 5s 83ms/step - loss: 0.2752 - accuracy: 0.9885 - val_loss: 0.3584 - val_accuracy: 0.9598 - lr: 0.0010\n",
            "Epoch 14/50\n",
            "66/66 [==============================] - ETA: 0s - loss: 0.2598 - accuracy: 0.9896\n",
            "Epoch 00014: ReduceLROnPlateau reducing learning rate to 3.30000015674159e-05.\n",
            "66/66 [==============================] - 5s 82ms/step - loss: 0.2598 - accuracy: 0.9896 - val_loss: 0.3393 - val_accuracy: 0.9671 - lr: 0.0010\n",
            "Epoch 15/50\n",
            "66/66 [==============================] - 5s 82ms/step - loss: 0.2024 - accuracy: 0.9956 - val_loss: 0.1741 - val_accuracy: 0.9911 - lr: 3.3000e-05\n",
            "Epoch 16/50\n",
            "66/66 [==============================] - 5s 82ms/step - loss: 0.1230 - accuracy: 0.9973 - val_loss: 0.1185 - val_accuracy: 0.9920 - lr: 3.3000e-05\n",
            "Epoch 17/50\n",
            "66/66 [==============================] - 5s 82ms/step - loss: 0.0802 - accuracy: 0.9979 - val_loss: 0.0900 - val_accuracy: 0.9918 - lr: 3.3000e-05\n",
            "Epoch 18/50\n",
            "66/66 [==============================] - 5s 82ms/step - loss: 0.0530 - accuracy: 0.9988 - val_loss: 0.0714 - val_accuracy: 0.9919 - lr: 3.3000e-05\n",
            "Epoch 19/50\n",
            "66/66 [==============================] - 5s 82ms/step - loss: 0.0382 - accuracy: 0.9987 - val_loss: 0.0602 - val_accuracy: 0.9919 - lr: 3.3000e-05\n",
            "Epoch 20/50\n",
            "66/66 [==============================] - 5s 82ms/step - loss: 0.0289 - accuracy: 0.9987 - val_loss: 0.0566 - val_accuracy: 0.9906 - lr: 3.3000e-05\n",
            "Epoch 21/50\n",
            "66/66 [==============================] - 5s 82ms/step - loss: 0.0265 - accuracy: 0.9985 - val_loss: 0.0462 - val_accuracy: 0.9919 - lr: 3.3000e-05\n",
            "Epoch 22/50\n",
            "66/66 [==============================] - 5s 83ms/step - loss: 0.0222 - accuracy: 0.9988 - val_loss: 0.0430 - val_accuracy: 0.9927 - lr: 3.3000e-05\n",
            "Epoch 23/50\n",
            "66/66 [==============================] - 5s 82ms/step - loss: 0.0210 - accuracy: 0.9986 - val_loss: 0.0418 - val_accuracy: 0.9923 - lr: 3.3000e-05\n",
            "Epoch 24/50\n",
            "66/66 [==============================] - 5s 83ms/step - loss: 0.0196 - accuracy: 0.9985 - val_loss: 0.0418 - val_accuracy: 0.9919 - lr: 3.3000e-05\n",
            "Epoch 25/50\n",
            "66/66 [==============================] - 5s 83ms/step - loss: 0.0179 - accuracy: 0.9991 - val_loss: 0.0381 - val_accuracy: 0.9923 - lr: 3.3000e-05\n",
            "Epoch 26/50\n",
            "66/66 [==============================] - 5s 83ms/step - loss: 0.0158 - accuracy: 0.9992 - val_loss: 0.0387 - val_accuracy: 0.9925 - lr: 3.3000e-05\n",
            "Epoch 27/50\n",
            "66/66 [==============================] - 5s 82ms/step - loss: 0.0159 - accuracy: 0.9987 - val_loss: 0.0415 - val_accuracy: 0.9914 - lr: 3.3000e-05\n",
            "Epoch 28/50\n",
            "66/66 [==============================] - 5s 82ms/step - loss: 0.0174 - accuracy: 0.9988 - val_loss: 0.0397 - val_accuracy: 0.9920 - lr: 3.3000e-05\n",
            "Epoch 29/50\n",
            "66/66 [==============================] - 5s 83ms/step - loss: 0.0165 - accuracy: 0.9990 - val_loss: 0.0406 - val_accuracy: 0.9924 - lr: 3.3000e-05\n",
            "Epoch 30/50\n",
            "66/66 [==============================] - ETA: 0s - loss: 0.0169 - accuracy: 0.9988\n",
            "Epoch 00030: ReduceLROnPlateau reducing learning rate to 1.0890000085055363e-06.\n",
            "66/66 [==============================] - 5s 82ms/step - loss: 0.0169 - accuracy: 0.9988 - val_loss: 0.0414 - val_accuracy: 0.9924 - lr: 3.3000e-05\n",
            "Epoch 31/50\n",
            "66/66 [==============================] - 5s 82ms/step - loss: 0.0159 - accuracy: 0.9992 - val_loss: 0.0391 - val_accuracy: 0.9929 - lr: 1.0890e-06\n",
            "Epoch 32/50\n",
            "66/66 [==============================] - 5s 83ms/step - loss: 0.0149 - accuracy: 0.9994 - val_loss: 0.0379 - val_accuracy: 0.9931 - lr: 1.0890e-06\n",
            "Epoch 33/50\n",
            "66/66 [==============================] - 5s 82ms/step - loss: 0.0143 - accuracy: 0.9996 - val_loss: 0.0372 - val_accuracy: 0.9932 - lr: 1.0890e-06\n",
            "Epoch 34/50\n",
            "66/66 [==============================] - 5s 82ms/step - loss: 0.0141 - accuracy: 0.9996 - val_loss: 0.0368 - val_accuracy: 0.9932 - lr: 1.0890e-06\n",
            "Epoch 35/50\n",
            "66/66 [==============================] - 5s 82ms/step - loss: 0.0136 - accuracy: 0.9995 - val_loss: 0.0362 - val_accuracy: 0.9930 - lr: 1.0890e-06\n",
            "Epoch 36/50\n",
            "66/66 [==============================] - 5s 82ms/step - loss: 0.0133 - accuracy: 0.9996 - val_loss: 0.0358 - val_accuracy: 0.9935 - lr: 1.0890e-06\n",
            "Epoch 37/50\n",
            "66/66 [==============================] - 5s 82ms/step - loss: 0.0130 - accuracy: 0.9997 - val_loss: 0.0354 - val_accuracy: 0.9936 - lr: 1.0890e-06\n",
            "Epoch 38/50\n",
            "66/66 [==============================] - 5s 82ms/step - loss: 0.0129 - accuracy: 0.9996 - val_loss: 0.0353 - val_accuracy: 0.9935 - lr: 1.0890e-06\n",
            "Epoch 39/50\n",
            "66/66 [==============================] - 5s 82ms/step - loss: 0.0123 - accuracy: 0.9999 - val_loss: 0.0350 - val_accuracy: 0.9935 - lr: 1.0890e-06\n",
            "Epoch 40/50\n",
            "66/66 [==============================] - 5s 82ms/step - loss: 0.0123 - accuracy: 0.9997 - val_loss: 0.0348 - val_accuracy: 0.9936 - lr: 1.0890e-06\n",
            "Epoch 41/50\n",
            "66/66 [==============================] - 5s 82ms/step - loss: 0.0120 - accuracy: 0.9996 - val_loss: 0.0345 - val_accuracy: 0.9936 - lr: 1.0890e-06\n",
            "Epoch 42/50\n",
            "66/66 [==============================] - 5s 82ms/step - loss: 0.0117 - accuracy: 0.9998 - val_loss: 0.0343 - val_accuracy: 0.9936 - lr: 1.0890e-06\n",
            "Epoch 43/50\n",
            "66/66 [==============================] - 5s 82ms/step - loss: 0.0116 - accuracy: 0.9997 - val_loss: 0.0341 - val_accuracy: 0.9938 - lr: 1.0890e-06\n",
            "Epoch 44/50\n",
            "66/66 [==============================] - 6s 84ms/step - loss: 0.0114 - accuracy: 0.9997 - val_loss: 0.0339 - val_accuracy: 0.9938 - lr: 1.0890e-06\n",
            "Epoch 45/50\n",
            "66/66 [==============================] - 5s 82ms/step - loss: 0.0110 - accuracy: 0.9998 - val_loss: 0.0336 - val_accuracy: 0.9938 - lr: 1.0890e-06\n",
            "Epoch 46/50\n",
            "66/66 [==============================] - 5s 82ms/step - loss: 0.0108 - accuracy: 0.9998 - val_loss: 0.0333 - val_accuracy: 0.9940 - lr: 1.0890e-06\n",
            "Epoch 47/50\n",
            "66/66 [==============================] - 5s 83ms/step - loss: 0.0108 - accuracy: 0.9997 - val_loss: 0.0331 - val_accuracy: 0.9938 - lr: 1.0890e-06\n",
            "Epoch 48/50\n",
            "66/66 [==============================] - 5s 82ms/step - loss: 0.0105 - accuracy: 0.9998 - val_loss: 0.0330 - val_accuracy: 0.9939 - lr: 1.0890e-06\n",
            "Epoch 49/50\n",
            "66/66 [==============================] - 5s 82ms/step - loss: 0.0102 - accuracy: 0.9998 - val_loss: 0.0327 - val_accuracy: 0.9939 - lr: 1.0890e-06\n",
            "Epoch 50/50\n",
            "66/66 [==============================] - 5s 82ms/step - loss: 0.0098 - accuracy: 0.9998 - val_loss: 0.0326 - val_accuracy: 0.9938 - lr: 1.0890e-06\n"
          ],
          "name": "stdout"
        }
      ]
    },
    {
      "cell_type": "code",
      "metadata": {
        "id": "HjIZ3kTlnnpl",
        "colab_type": "code",
        "outputId": "06896aa4-64af-4cef-e1d5-247fcd1b8de0",
        "colab": {
          "base_uri": "https://localhost:8080/",
          "height": 545
        }
      },
      "source": [
        "plt.plot(history.history['accuracy'])\n",
        "plt.plot(history.history['val_accuracy'])\n",
        "plt.title('Accuracy')\n",
        "plt.show()\n",
        "\n",
        "plt.plot(history.history['loss'])\n",
        "plt.plot(history.history['val_loss'])\n",
        "plt.title('Loss')\n",
        "plt.show()"
      ],
      "execution_count": 15,
      "outputs": [
        {
          "output_type": "display_data",
          "data": {
            "image/png": "[encoded data removed]",
            "text/plain": [
              "<Figure size 432x288 with 1 Axes>"
            ]
          },
          "metadata": {
            "tags": [],
            "needs_background": "light"
          }
        },
        {
          "output_type": "display_data",
          "data": {
            "image/png": "[encoded data removed]",
            "text/plain": [
              "<Figure size 432x288 with 1 Axes>"
            ]
          },
          "metadata": {
            "tags": [],
            "needs_background": "light"
          }
        }
      ]
    },
    {
      "cell_type": "markdown",
      "metadata": {
        "id": "uSmP2LEZgkcJ",
        "colab_type": "text"
      },
      "source": [
        "# Fruit Classification\n",
        "\n",
        "Convoluational neural network can be applied in more complicated images classification such as 3-channel images(RGB) with complex texture."
      ]
    },
    {
      "cell_type": "code",
      "metadata": {
        "id": "QVSYCpmBDv2U",
        "colab_type": "code",
        "colab": {}
      },
      "source": [
        "train_folder_path = '/content/drive/My Drive/fruit/train'\n",
        "test_folder_path = '/content/drive/My Drive/fruit/test'"
      ],
      "execution_count": 0,
      "outputs": []
    },
    {
      "cell_type": "code",
      "metadata": {
        "id": "8tn-QYWsiO3F",
        "colab_type": "code",
        "outputId": "ffc3f7e6-5077-442f-c139-df0969377af8",
        "colab": {
          "base_uri": "https://localhost:8080/",
          "height": 267
        }
      },
      "source": [
        "image = '/content/drive/My Drive/fruit/train/apple/apple_2.jpg'\n",
        "\n",
        "img = cv2.imread(image, cv2.IMREAD_COLOR)\n",
        "cv2_imshow(img)"
      ],
      "execution_count": 17,
      "outputs": [
        {
          "output_type": "display_data",
          "data": {
            "image/png": "[encoded data removed]",
            "text/plain": [
              "<PIL.Image.Image image mode=RGB size=250x250 at 0x7F4A7BA6B8D0>"
            ]
          },
          "metadata": {
            "tags": []
          }
        }
      ]
    },
    {
      "cell_type": "code",
      "metadata": {
        "id": "0Ec6NUCdV5b6",
        "colab_type": "code",
        "outputId": "f4ee3965-d1c4-49b5-89aa-b26010ff0b63",
        "colab": {
          "base_uri": "https://localhost:8080/",
          "height": 51
        }
      },
      "source": [
        "images = []\n",
        "labels = []\n",
        "\n",
        "for class_folder in os.listdir(train_folder_path):\n",
        "  class_folder_path = os.path.join(train_folder_path, class_folder)\n",
        "  for image_path in glob(os.path.join(class_folder_path, \"*.jpg\")):\n",
        "    img = cv2.imread(image_path, cv2.IMREAD_COLOR)\n",
        "    img = cv2.resize(img, (100, 100))\n",
        "\n",
        "    images.append(img)\n",
        "    labels.append(class_folder)\n",
        "\n",
        "images = np.array(images)\n",
        "labels = np.array(labels).reshape(-1, 1)\n",
        "\n",
        "print(images.shape)\n",
        "print(labels.shape)\n"
      ],
      "execution_count": 18,
      "outputs": [
        {
          "output_type": "stream",
          "text": [
            "(220, 100, 100, 3)\n",
            "(220, 1)\n"
          ],
          "name": "stdout"
        }
      ]
    },
    {
      "cell_type": "code",
      "metadata": {
        "id": "CbEUxT0XjmH7",
        "colab_type": "code",
        "outputId": "c639a1f6-c5ba-4ec5-e872-29b1876bdcf7",
        "colab": {
          "base_uri": "https://localhost:8080/",
          "height": 51
        }
      },
      "source": [
        "test_images = []\n",
        "test_labels = []\n",
        "\n",
        "for class_folder in os.listdir(test_folder_path):\n",
        "  class_folder_path = os.path.join(test_folder_path, class_folder)\n",
        "  for image_path in glob(os.path.join(class_folder_path, \"*.jpg\")):\n",
        "    img = cv2.imread(image_path, cv2.IMREAD_COLOR)\n",
        "    img = cv2.resize(img, (100, 100))\n",
        "\n",
        "    test_images.append(img)\n",
        "    test_labels.append(class_folder)\n",
        "\n",
        "test_images = np.array(test_images)\n",
        "test_labels = np.array(test_labels).reshape(-1, 1)\n",
        "\n",
        "print(test_images.shape)\n",
        "print(test_labels.shape)\n"
      ],
      "execution_count": 19,
      "outputs": [
        {
          "output_type": "stream",
          "text": [
            "(55, 100, 100, 3)\n",
            "(55, 1)\n"
          ],
          "name": "stdout"
        }
      ]
    },
    {
      "cell_type": "code",
      "metadata": {
        "id": "BW4qJGR3j6XR",
        "colab_type": "code",
        "colab": {}
      },
      "source": [
        "images = images/255\n",
        "test_images = test_images/255"
      ],
      "execution_count": 0,
      "outputs": []
    },
    {
      "cell_type": "code",
      "metadata": {
        "id": "NPuS7XiUkrtk",
        "colab_type": "code",
        "outputId": "b5951597-95db-4c38-d5ea-68312f0461c1",
        "colab": {
          "base_uri": "https://localhost:8080/",
          "height": 139
        }
      },
      "source": [
        "le = LabelEncoder()\n",
        "ohe = OneHotEncoder(categories='auto')\n",
        "\n",
        "num_labels = le.fit_transform(labels)\n",
        "oh_labels = ohe.fit_transform(num_labels.reshape(-1, 1)).toarray()\n",
        "\n",
        "num_test_labels = le.transform(test_labels)\n",
        "oh_test_labels = ohe.transform(num_test_labels.reshape(-1, 1)).toarray()\n",
        "\n",
        "print(oh_labels.shape)\n",
        "print(oh_test_labels.shape)"
      ],
      "execution_count": 21,
      "outputs": [
        {
          "output_type": "stream",
          "text": [
            "(220, 3)\n",
            "(55, 3)\n"
          ],
          "name": "stdout"
        },
        {
          "output_type": "stream",
          "text": [
            "/usr/local/lib/python3.6/dist-packages/sklearn/preprocessing/_label.py:251: DataConversionWarning: A column-vector y was passed when a 1d array was expected. Please change the shape of y to (n_samples, ), for example using ravel().\n",
            "  y = column_or_1d(y, warn=True)\n",
            "/usr/local/lib/python3.6/dist-packages/sklearn/preprocessing/_label.py:268: DataConversionWarning: A column-vector y was passed when a 1d array was expected. Please change the shape of y to (n_samples, ), for example using ravel().\n",
            "  y = column_or_1d(y, warn=True)\n"
          ],
          "name": "stderr"
        }
      ]
    },
    {
      "cell_type": "code",
      "metadata": {
        "id": "RduHaKyDGV0-",
        "colab_type": "code",
        "colab": {}
      },
      "source": [
        "reduce_lr = ReduceLROnPlateau(monitor = 'val_loss',\n",
        "                              petience = 5,\n",
        "                              min_lr = 0.000001,\n",
        "                              verbose = 1,\n",
        "                              factor = 0.033)"
      ],
      "execution_count": 0,
      "outputs": []
    },
    {
      "cell_type": "code",
      "metadata": {
        "id": "XDbQKksEFTsx",
        "colab_type": "code",
        "colab": {
          "base_uri": "https://localhost:8080/",
          "height": 901
        },
        "outputId": "bc11680d-ebb0-408e-e5b8-84e3164e43be"
      },
      "source": [
        "model = Sequential()\n",
        "\n",
        "model.add(Conv2D(64, (3,3), strides = 1, padding = 'same', activation = 'relu', input_shape = (100, 100, 3)))\n",
        "model.add(BatchNormalization())\n",
        "model.add(MaxPooling2D(2,2))\n",
        "model.add(Dropout(0.4))\n",
        "\n",
        "model.add(Conv2D(128, (3,3), strides = 1, padding = 'same', activation = 'relu'))\n",
        "model.add(BatchNormalization())\n",
        "model.add(MaxPooling2D(2,2))\n",
        "model.add(Dropout(0.4))\n",
        "\n",
        "model.add(Conv2D(256, (3,3), strides = 1, padding = 'same', activation = 'relu'))\n",
        "model.add(BatchNormalization())\n",
        "model.add(MaxPooling2D(2,2))\n",
        "model.add(Dropout(0.4))\n",
        "\n",
        "model.add(Flatten())\n",
        "\n",
        "model.add(Dense(units = 512))\n",
        "model.add(BatchNormalization())\n",
        "model.add(Activation('relu'))\n",
        "model.add(Dropout(0.4))\n",
        "\n",
        "model.add(Dense(units = 256, kernel_regularizer = regularizers.l2(0.1)))\n",
        "model.add(BatchNormalization())\n",
        "model.add(Activation('relu'))\n",
        "model.add(Dropout(0.4))\n",
        "\n",
        "model.add(Dense(units = 3, activation = 'softmax'))\n",
        "\n",
        "model.compile(optimizer = 'adam', loss = 'categorical_crossentropy', metrics = ['acc'])\n",
        "\n",
        "model.summary()"
      ],
      "execution_count": 34,
      "outputs": [
        {
          "output_type": "stream",
          "text": [
            "Model: \"sequential_9\"\n",
            "_________________________________________________________________\n",
            "Layer (type)                 Output Shape              Param #   \n",
            "=================================================================\n",
            "conv2d_22 (Conv2D)           (None, 100, 100, 64)      1792      \n",
            "_________________________________________________________________\n",
            "batch_normalization_27 (Batc (None, 100, 100, 64)      256       \n",
            "_________________________________________________________________\n",
            "max_pooling2d_10 (MaxPooling (None, 50, 50, 64)        0         \n",
            "_________________________________________________________________\n",
            "dropout_25 (Dropout)         (None, 50, 50, 64)        0         \n",
            "_________________________________________________________________\n",
            "conv2d_23 (Conv2D)           (None, 50, 50, 128)       73856     \n",
            "_________________________________________________________________\n",
            "batch_normalization_28 (Batc (None, 50, 50, 128)       512       \n",
            "_________________________________________________________________\n",
            "max_pooling2d_11 (MaxPooling (None, 25, 25, 128)       0         \n",
            "_________________________________________________________________\n",
            "dropout_26 (Dropout)         (None, 25, 25, 128)       0         \n",
            "_________________________________________________________________\n",
            "conv2d_24 (Conv2D)           (None, 25, 25, 256)       295168    \n",
            "_________________________________________________________________\n",
            "batch_normalization_29 (Batc (None, 25, 25, 256)       1024      \n",
            "_________________________________________________________________\n",
            "max_pooling2d_12 (MaxPooling (None, 12, 12, 256)       0         \n",
            "_________________________________________________________________\n",
            "dropout_27 (Dropout)         (None, 12, 12, 256)       0         \n",
            "_________________________________________________________________\n",
            "flatten_7 (Flatten)          (None, 36864)             0         \n",
            "_________________________________________________________________\n",
            "dense_9 (Dense)              (None, 512)               18874880  \n",
            "_________________________________________________________________\n",
            "batch_normalization_30 (Batc (None, 512)               2048      \n",
            "_________________________________________________________________\n",
            "activation_17 (Activation)   (None, 512)               0         \n",
            "_________________________________________________________________\n",
            "dropout_28 (Dropout)         (None, 512)               0         \n",
            "_________________________________________________________________\n",
            "dense_10 (Dense)             (None, 256)               131328    \n",
            "_________________________________________________________________\n",
            "batch_normalization_31 (Batc (None, 256)               1024      \n",
            "_________________________________________________________________\n",
            "activation_18 (Activation)   (None, 256)               0         \n",
            "_________________________________________________________________\n",
            "dropout_29 (Dropout)         (None, 256)               0         \n",
            "_________________________________________________________________\n",
            "dense_11 (Dense)             (None, 3)                 771       \n",
            "=================================================================\n",
            "Total params: 19,382,659\n",
            "Trainable params: 19,380,227\n",
            "Non-trainable params: 2,432\n",
            "_________________________________________________________________\n"
          ],
          "name": "stdout"
        }
      ]
    },
    {
      "cell_type": "code",
      "metadata": {
        "id": "eMA96x5sHvGo",
        "colab_type": "code",
        "outputId": "a74e87e9-4f08-4bb7-9ecc-68cfce927adb",
        "colab": {
          "base_uri": "https://localhost:8080/",
          "height": 901
        }
      },
      "source": [
        "model_2 = tf.keras.models.Sequential([tf.keras.layers.Conv2D(64, (3,3), strides = 1, padding = 'same',\n",
        "                                                           activation = 'relu', input_shape = (100, 100, 3)),\n",
        "                                    tf.keras.layers.BatchNormalization(),\n",
        "                                    tf.keras.layers.MaxPooling2D((2,2)),\n",
        "                                    tf.keras.layers.Dropout(0.4),\n",
        "                                    tf.keras.layers.Conv2D(128, (3,3), strides =1, padding = 'same',\n",
        "                                                           activation = 'relu'),\n",
        "                                    tf.keras.layers.BatchNormalization(),\n",
        "                                    tf.keras.layers.MaxPooling2D((2,2)),\n",
        "                                    tf.keras.layers.Dropout(0.4),\n",
        "                                    tf.keras.layers.Conv2D(256, (3,3), strides = 1, padding = 'same',\n",
        "                                                           activation = 'relu'),\n",
        "                                    tf.keras.layers.BatchNormalization(),\n",
        "                                    tf.keras.layers.MaxPooling2D((2,2)),\n",
        "                                    tf.keras.layers.Dropout(0.4),\n",
        "                                    tf.keras.layers.Flatten(),\n",
        "                                    tf.keras.layers.Dense(512, kernel_regularizer = regularizers.l2(0.1)),\n",
        "                                    tf.keras.layers.BatchNormalization(),\n",
        "                                    tf.keras.layers.Activation('relu'),\n",
        "                                    tf.keras.layers.Dropout(0.4),\n",
        "                                    tf.keras.layers.Dense(256, kernel_regularizer = regularizers.l2(0.1)),\n",
        "                                    tf.keras.layers.BatchNormalization(),\n",
        "                                    tf.keras.layers.Activation('relu'),\n",
        "                                    tf.keras.layers.Dropout(0.4),\n",
        "                                    tf.keras.layers.Dense(3, activation = 'softmax')])\n",
        "\n",
        "model_2.compile(optimizer = 'adam', loss = 'categorical_crossentropy', metrics = ['acc'])\n",
        "\n",
        "model_2.summary()"
      ],
      "execution_count": 35,
      "outputs": [
        {
          "output_type": "stream",
          "text": [
            "Model: \"sequential_10\"\n",
            "_________________________________________________________________\n",
            "Layer (type)                 Output Shape              Param #   \n",
            "=================================================================\n",
            "conv2d_25 (Conv2D)           (None, 100, 100, 64)      1792      \n",
            "_________________________________________________________________\n",
            "batch_normalization_32 (Batc (None, 100, 100, 64)      256       \n",
            "_________________________________________________________________\n",
            "max_pooling2d_13 (MaxPooling (None, 50, 50, 64)        0         \n",
            "_________________________________________________________________\n",
            "dropout_30 (Dropout)         (None, 50, 50, 64)        0         \n",
            "_________________________________________________________________\n",
            "conv2d_26 (Conv2D)           (None, 50, 50, 128)       73856     \n",
            "_________________________________________________________________\n",
            "batch_normalization_33 (Batc (None, 50, 50, 128)       512       \n",
            "_________________________________________________________________\n",
            "max_pooling2d_14 (MaxPooling (None, 25, 25, 128)       0         \n",
            "_________________________________________________________________\n",
            "dropout_31 (Dropout)         (None, 25, 25, 128)       0         \n",
            "_________________________________________________________________\n",
            "conv2d_27 (Conv2D)           (None, 25, 25, 256)       295168    \n",
            "_________________________________________________________________\n",
            "batch_normalization_34 (Batc (None, 25, 25, 256)       1024      \n",
            "_________________________________________________________________\n",
            "max_pooling2d_15 (MaxPooling (None, 12, 12, 256)       0         \n",
            "_________________________________________________________________\n",
            "dropout_32 (Dropout)         (None, 12, 12, 256)       0         \n",
            "_________________________________________________________________\n",
            "flatten_8 (Flatten)          (None, 36864)             0         \n",
            "_________________________________________________________________\n",
            "dense_12 (Dense)             (None, 512)               18874880  \n",
            "_________________________________________________________________\n",
            "batch_normalization_35 (Batc (None, 512)               2048      \n",
            "_________________________________________________________________\n",
            "activation_19 (Activation)   (None, 512)               0         \n",
            "_________________________________________________________________\n",
            "dropout_33 (Dropout)         (None, 512)               0         \n",
            "_________________________________________________________________\n",
            "dense_13 (Dense)             (None, 256)               131328    \n",
            "_________________________________________________________________\n",
            "batch_normalization_36 (Batc (None, 256)               1024      \n",
            "_________________________________________________________________\n",
            "activation_20 (Activation)   (None, 256)               0         \n",
            "_________________________________________________________________\n",
            "dropout_34 (Dropout)         (None, 256)               0         \n",
            "_________________________________________________________________\n",
            "dense_14 (Dense)             (None, 3)                 771       \n",
            "=================================================================\n",
            "Total params: 19,382,659\n",
            "Trainable params: 19,380,227\n",
            "Non-trainable params: 2,432\n",
            "_________________________________________________________________\n"
          ],
          "name": "stdout"
        }
      ]
    },
    {
      "cell_type": "code",
      "metadata": {
        "id": "J-y_2Z-WJqAJ",
        "colab_type": "code",
        "outputId": "a0c2cc58-05b2-429d-a40e-7995e391705c",
        "colab": {
          "base_uri": "https://localhost:8080/",
          "height": 1000
        }
      },
      "source": [
        "epochs = 100\n",
        "\n",
        "history = model.fit(images, oh_labels,\n",
        "                    batch_size = batch,\n",
        "                    epochs = epochs,\n",
        "                    verbose = 1,\n",
        "                    callbacks = [reduce_lr],\n",
        "                    validation_data = (test_images, oh_test_labels))"
      ],
      "execution_count": 36,
      "outputs": [
        {
          "output_type": "stream",
          "text": [
            "Epoch 1/100\n",
            "1/1 [==============================] - 1s 681ms/step - loss: 35.8866 - acc: 0.3136 - val_loss: 34.2545 - val_acc: 0.4545 - lr: 0.0010\n",
            "Epoch 2/100\n",
            "1/1 [==============================] - 0s 77ms/step - loss: 33.9179 - acc: 0.7455 - val_loss: 33.2321 - val_acc: 0.5273 - lr: 0.0010\n",
            "Epoch 3/100\n",
            "1/1 [==============================] - 0s 72ms/step - loss: 32.5123 - acc: 0.8455 - val_loss: 32.1579 - val_acc: 0.6182 - lr: 0.0010\n",
            "Epoch 4/100\n",
            "1/1 [==============================] - 0s 76ms/step - loss: 31.3496 - acc: 0.9000 - val_loss: 31.0673 - val_acc: 0.4545 - lr: 0.0010\n",
            "Epoch 5/100\n",
            "1/1 [==============================] - 0s 76ms/step - loss: 30.2842 - acc: 0.9091 - val_loss: 30.0332 - val_acc: 0.3455 - lr: 0.0010\n",
            "Epoch 6/100\n",
            "1/1 [==============================] - 0s 76ms/step - loss: 29.2001 - acc: 0.9636 - val_loss: 29.0340 - val_acc: 0.4182 - lr: 0.0010\n",
            "Epoch 7/100\n",
            "1/1 [==============================] - 0s 72ms/step - loss: 28.1860 - acc: 0.9591 - val_loss: 28.0451 - val_acc: 0.5273 - lr: 0.0010\n",
            "Epoch 8/100\n",
            "1/1 [==============================] - 0s 79ms/step - loss: 27.1890 - acc: 0.9682 - val_loss: 27.0917 - val_acc: 0.5273 - lr: 0.0010\n",
            "Epoch 9/100\n",
            "1/1 [==============================] - 0s 74ms/step - loss: 26.2204 - acc: 0.9773 - val_loss: 26.1819 - val_acc: 0.4909 - lr: 0.0010\n",
            "Epoch 10/100\n",
            "1/1 [==============================] - 0s 77ms/step - loss: 25.2831 - acc: 0.9864 - val_loss: 25.3130 - val_acc: 0.4182 - lr: 0.0010\n",
            "Epoch 11/100\n",
            "1/1 [==============================] - 0s 73ms/step - loss: 24.3622 - acc: 0.9909 - val_loss: 24.4829 - val_acc: 0.3455 - lr: 0.0010\n",
            "Epoch 12/100\n",
            "1/1 [==============================] - 0s 72ms/step - loss: 23.4810 - acc: 0.9864 - val_loss: 23.7173 - val_acc: 0.3273 - lr: 0.0010\n",
            "Epoch 13/100\n",
            "1/1 [==============================] - 0s 84ms/step - loss: 22.6008 - acc: 0.9909 - val_loss: 23.0016 - val_acc: 0.3273 - lr: 0.0010\n",
            "Epoch 14/100\n",
            "1/1 [==============================] - 0s 75ms/step - loss: 21.7598 - acc: 0.9955 - val_loss: 22.3024 - val_acc: 0.3273 - lr: 0.0010\n",
            "Epoch 15/100\n",
            "1/1 [==============================] - 0s 75ms/step - loss: 20.9513 - acc: 0.9909 - val_loss: 21.5975 - val_acc: 0.3273 - lr: 0.0010\n",
            "Epoch 16/100\n",
            "1/1 [==============================] - 0s 75ms/step - loss: 20.1617 - acc: 0.9909 - val_loss: 20.8820 - val_acc: 0.3273 - lr: 0.0010\n",
            "Epoch 17/100\n",
            "1/1 [==============================] - 0s 79ms/step - loss: 19.3816 - acc: 1.0000 - val_loss: 20.1744 - val_acc: 0.3273 - lr: 0.0010\n",
            "Epoch 18/100\n",
            "1/1 [==============================] - 0s 80ms/step - loss: 18.6346 - acc: 1.0000 - val_loss: 19.4762 - val_acc: 0.3273 - lr: 0.0010\n",
            "Epoch 19/100\n",
            "1/1 [==============================] - 0s 79ms/step - loss: 17.9171 - acc: 0.9955 - val_loss: 18.8077 - val_acc: 0.3273 - lr: 0.0010\n",
            "Epoch 20/100\n",
            "1/1 [==============================] - 0s 74ms/step - loss: 17.2152 - acc: 0.9955 - val_loss: 18.1827 - val_acc: 0.3273 - lr: 0.0010\n",
            "Epoch 21/100\n",
            "1/1 [==============================] - 0s 81ms/step - loss: 16.5334 - acc: 1.0000 - val_loss: 17.5783 - val_acc: 0.3273 - lr: 0.0010\n",
            "Epoch 22/100\n",
            "1/1 [==============================] - 0s 73ms/step - loss: 15.8784 - acc: 1.0000 - val_loss: 16.9940 - val_acc: 0.3273 - lr: 0.0010\n",
            "Epoch 23/100\n",
            "1/1 [==============================] - 0s 78ms/step - loss: 15.2454 - acc: 1.0000 - val_loss: 16.4379 - val_acc: 0.3273 - lr: 0.0010\n",
            "Epoch 24/100\n",
            "1/1 [==============================] - 0s 73ms/step - loss: 14.6358 - acc: 1.0000 - val_loss: 15.8802 - val_acc: 0.3273 - lr: 0.0010\n",
            "Epoch 25/100\n",
            "1/1 [==============================] - 0s 78ms/step - loss: 14.0383 - acc: 1.0000 - val_loss: 15.3260 - val_acc: 0.3273 - lr: 0.0010\n",
            "Epoch 26/100\n",
            "1/1 [==============================] - 0s 73ms/step - loss: 13.4746 - acc: 1.0000 - val_loss: 14.7678 - val_acc: 0.3273 - lr: 0.0010\n",
            "Epoch 27/100\n",
            "1/1 [==============================] - 0s 94ms/step - loss: 12.9164 - acc: 1.0000 - val_loss: 14.2151 - val_acc: 0.3273 - lr: 0.0010\n",
            "Epoch 28/100\n",
            "1/1 [==============================] - 0s 74ms/step - loss: 12.3828 - acc: 1.0000 - val_loss: 13.6817 - val_acc: 0.3273 - lr: 0.0010\n",
            "Epoch 29/100\n",
            "1/1 [==============================] - 0s 80ms/step - loss: 11.8716 - acc: 1.0000 - val_loss: 13.1668 - val_acc: 0.3273 - lr: 0.0010\n",
            "Epoch 30/100\n",
            "1/1 [==============================] - 0s 75ms/step - loss: 11.3746 - acc: 1.0000 - val_loss: 12.6706 - val_acc: 0.3273 - lr: 0.0010\n",
            "Epoch 31/100\n",
            "1/1 [==============================] - 0s 79ms/step - loss: 10.8970 - acc: 1.0000 - val_loss: 12.1945 - val_acc: 0.3273 - lr: 0.0010\n",
            "Epoch 32/100\n",
            "1/1 [==============================] - 0s 74ms/step - loss: 10.4376 - acc: 1.0000 - val_loss: 11.7409 - val_acc: 0.3273 - lr: 0.0010\n",
            "Epoch 33/100\n",
            "1/1 [==============================] - 0s 78ms/step - loss: 9.9953 - acc: 1.0000 - val_loss: 11.3207 - val_acc: 0.3273 - lr: 0.0010\n",
            "Epoch 34/100\n",
            "1/1 [==============================] - 0s 78ms/step - loss: 9.5649 - acc: 1.0000 - val_loss: 10.9123 - val_acc: 0.3273 - lr: 0.0010\n",
            "Epoch 35/100\n",
            "1/1 [==============================] - 0s 79ms/step - loss: 9.1527 - acc: 1.0000 - val_loss: 10.5228 - val_acc: 0.3273 - lr: 0.0010\n",
            "Epoch 36/100\n",
            "1/1 [==============================] - 0s 73ms/step - loss: 8.7542 - acc: 1.0000 - val_loss: 10.1446 - val_acc: 0.3273 - lr: 0.0010\n",
            "Epoch 37/100\n",
            "1/1 [==============================] - 0s 87ms/step - loss: 8.3829 - acc: 1.0000 - val_loss: 9.7675 - val_acc: 0.3273 - lr: 0.0010\n",
            "Epoch 38/100\n",
            "1/1 [==============================] - 0s 74ms/step - loss: 8.0086 - acc: 1.0000 - val_loss: 9.4027 - val_acc: 0.3273 - lr: 0.0010\n",
            "Epoch 39/100\n",
            "1/1 [==============================] - 0s 78ms/step - loss: 7.6584 - acc: 1.0000 - val_loss: 9.0406 - val_acc: 0.3273 - lr: 0.0010\n",
            "Epoch 40/100\n",
            "1/1 [==============================] - 0s 74ms/step - loss: 7.3205 - acc: 0.9955 - val_loss: 8.7086 - val_acc: 0.3273 - lr: 0.0010\n",
            "Epoch 41/100\n",
            "1/1 [==============================] - 0s 80ms/step - loss: 6.9920 - acc: 1.0000 - val_loss: 8.3875 - val_acc: 0.3273 - lr: 0.0010\n",
            "Epoch 42/100\n",
            "1/1 [==============================] - 0s 74ms/step - loss: 6.6812 - acc: 1.0000 - val_loss: 8.0787 - val_acc: 0.3273 - lr: 0.0010\n",
            "Epoch 43/100\n",
            "1/1 [==============================] - 0s 80ms/step - loss: 6.3795 - acc: 1.0000 - val_loss: 7.7848 - val_acc: 0.3273 - lr: 0.0010\n",
            "Epoch 44/100\n",
            "1/1 [==============================] - 0s 76ms/step - loss: 6.0931 - acc: 1.0000 - val_loss: 7.4989 - val_acc: 0.3273 - lr: 0.0010\n",
            "Epoch 45/100\n",
            "1/1 [==============================] - 0s 76ms/step - loss: 5.8154 - acc: 1.0000 - val_loss: 7.2260 - val_acc: 0.3273 - lr: 0.0010\n",
            "Epoch 46/100\n",
            "1/1 [==============================] - 0s 86ms/step - loss: 5.5517 - acc: 1.0000 - val_loss: 6.9641 - val_acc: 0.3273 - lr: 0.0010\n",
            "Epoch 47/100\n",
            "1/1 [==============================] - 0s 80ms/step - loss: 5.2939 - acc: 1.0000 - val_loss: 6.7122 - val_acc: 0.3273 - lr: 0.0010\n",
            "Epoch 48/100\n",
            "1/1 [==============================] - 0s 81ms/step - loss: 5.0482 - acc: 1.0000 - val_loss: 6.4692 - val_acc: 0.3273 - lr: 0.0010\n",
            "Epoch 49/100\n",
            "1/1 [==============================] - 0s 79ms/step - loss: 4.8145 - acc: 1.0000 - val_loss: 6.2358 - val_acc: 0.3273 - lr: 0.0010\n",
            "Epoch 50/100\n",
            "1/1 [==============================] - 0s 79ms/step - loss: 4.5909 - acc: 1.0000 - val_loss: 6.0095 - val_acc: 0.3273 - lr: 0.0010\n",
            "Epoch 51/100\n",
            "1/1 [==============================] - 0s 84ms/step - loss: 4.3760 - acc: 1.0000 - val_loss: 5.7910 - val_acc: 0.3273 - lr: 0.0010\n",
            "Epoch 52/100\n",
            "1/1 [==============================] - 0s 79ms/step - loss: 4.1685 - acc: 1.0000 - val_loss: 5.5815 - val_acc: 0.3273 - lr: 0.0010\n",
            "Epoch 53/100\n",
            "1/1 [==============================] - 0s 77ms/step - loss: 3.9705 - acc: 1.0000 - val_loss: 5.3801 - val_acc: 0.3273 - lr: 0.0010\n",
            "Epoch 54/100\n",
            "1/1 [==============================] - 0s 75ms/step - loss: 3.7824 - acc: 1.0000 - val_loss: 5.1842 - val_acc: 0.3273 - lr: 0.0010\n",
            "Epoch 55/100\n",
            "1/1 [==============================] - 0s 83ms/step - loss: 3.5998 - acc: 1.0000 - val_loss: 4.9944 - val_acc: 0.3273 - lr: 0.0010\n",
            "Epoch 56/100\n",
            "1/1 [==============================] - 0s 92ms/step - loss: 3.4265 - acc: 1.0000 - val_loss: 4.8125 - val_acc: 0.3273 - lr: 0.0010\n",
            "Epoch 57/100\n",
            "1/1 [==============================] - 0s 78ms/step - loss: 3.2630 - acc: 1.0000 - val_loss: 4.6337 - val_acc: 0.3273 - lr: 0.0010\n",
            "Epoch 58/100\n",
            "1/1 [==============================] - 0s 76ms/step - loss: 3.1029 - acc: 1.0000 - val_loss: 4.4637 - val_acc: 0.3273 - lr: 0.0010\n",
            "Epoch 59/100\n",
            "1/1 [==============================] - 0s 80ms/step - loss: 2.9510 - acc: 1.0000 - val_loss: 4.2999 - val_acc: 0.3273 - lr: 0.0010\n",
            "Epoch 60/100\n",
            "1/1 [==============================] - 0s 73ms/step - loss: 2.8071 - acc: 1.0000 - val_loss: 4.1442 - val_acc: 0.3273 - lr: 0.0010\n",
            "Epoch 61/100\n",
            "1/1 [==============================] - 0s 76ms/step - loss: 2.6681 - acc: 1.0000 - val_loss: 3.9967 - val_acc: 0.3273 - lr: 0.0010\n",
            "Epoch 62/100\n",
            "1/1 [==============================] - 0s 74ms/step - loss: 2.5368 - acc: 1.0000 - val_loss: 3.8574 - val_acc: 0.3273 - lr: 0.0010\n",
            "Epoch 63/100\n",
            "1/1 [==============================] - 0s 78ms/step - loss: 2.4088 - acc: 1.0000 - val_loss: 3.7258 - val_acc: 0.3273 - lr: 0.0010\n",
            "Epoch 64/100\n",
            "1/1 [==============================] - 0s 76ms/step - loss: 2.2875 - acc: 1.0000 - val_loss: 3.6002 - val_acc: 0.3273 - lr: 0.0010\n",
            "Epoch 65/100\n",
            "1/1 [==============================] - 0s 84ms/step - loss: 2.1731 - acc: 1.0000 - val_loss: 3.4802 - val_acc: 0.3273 - lr: 0.0010\n",
            "Epoch 66/100\n",
            "1/1 [==============================] - 0s 75ms/step - loss: 2.0626 - acc: 1.0000 - val_loss: 3.3648 - val_acc: 0.3273 - lr: 0.0010\n",
            "Epoch 67/100\n",
            "1/1 [==============================] - 0s 74ms/step - loss: 1.9584 - acc: 1.0000 - val_loss: 3.2549 - val_acc: 0.3273 - lr: 0.0010\n",
            "Epoch 68/100\n",
            "1/1 [==============================] - 0s 77ms/step - loss: 1.8575 - acc: 1.0000 - val_loss: 3.1517 - val_acc: 0.3273 - lr: 0.0010\n",
            "Epoch 69/100\n",
            "1/1 [==============================] - 0s 72ms/step - loss: 1.7625 - acc: 1.0000 - val_loss: 3.0535 - val_acc: 0.3273 - lr: 0.0010\n",
            "Epoch 70/100\n",
            "1/1 [==============================] - 0s 73ms/step - loss: 1.6717 - acc: 1.0000 - val_loss: 2.9618 - val_acc: 0.3273 - lr: 0.0010\n",
            "Epoch 71/100\n",
            "1/1 [==============================] - 0s 71ms/step - loss: 1.5842 - acc: 1.0000 - val_loss: 2.8731 - val_acc: 0.3273 - lr: 0.0010\n",
            "Epoch 72/100\n",
            "1/1 [==============================] - 0s 74ms/step - loss: 1.5024 - acc: 1.0000 - val_loss: 2.7876 - val_acc: 0.3273 - lr: 0.0010\n",
            "Epoch 73/100\n",
            "1/1 [==============================] - 0s 76ms/step - loss: 1.4237 - acc: 1.0000 - val_loss: 2.7073 - val_acc: 0.3273 - lr: 0.0010\n",
            "Epoch 74/100\n",
            "1/1 [==============================] - 0s 73ms/step - loss: 1.3480 - acc: 1.0000 - val_loss: 2.6314 - val_acc: 0.3273 - lr: 0.0010\n",
            "Epoch 75/100\n",
            "1/1 [==============================] - 0s 87ms/step - loss: 1.2767 - acc: 1.0000 - val_loss: 2.5573 - val_acc: 0.3273 - lr: 0.0010\n",
            "Epoch 76/100\n",
            "1/1 [==============================] - 0s 74ms/step - loss: 1.2086 - acc: 1.0000 - val_loss: 2.4854 - val_acc: 0.3273 - lr: 0.0010\n",
            "Epoch 77/100\n",
            "1/1 [==============================] - 0s 77ms/step - loss: 1.1439 - acc: 1.0000 - val_loss: 2.4157 - val_acc: 0.3273 - lr: 0.0010\n",
            "Epoch 78/100\n",
            "1/1 [==============================] - 0s 73ms/step - loss: 1.0823 - acc: 1.0000 - val_loss: 2.3479 - val_acc: 0.3273 - lr: 0.0010\n",
            "Epoch 79/100\n",
            "1/1 [==============================] - 0s 85ms/step - loss: 1.0270 - acc: 1.0000 - val_loss: 2.2813 - val_acc: 0.3273 - lr: 0.0010\n",
            "Epoch 80/100\n",
            "1/1 [==============================] - 0s 74ms/step - loss: 0.9684 - acc: 1.0000 - val_loss: 2.2171 - val_acc: 0.3273 - lr: 0.0010\n",
            "Epoch 81/100\n",
            "1/1 [==============================] - 0s 77ms/step - loss: 0.9156 - acc: 1.0000 - val_loss: 2.1564 - val_acc: 0.3273 - lr: 0.0010\n",
            "Epoch 82/100\n",
            "1/1 [==============================] - 0s 74ms/step - loss: 0.8657 - acc: 1.0000 - val_loss: 2.0965 - val_acc: 0.3273 - lr: 0.0010\n",
            "Epoch 83/100\n",
            "1/1 [==============================] - 0s 78ms/step - loss: 0.8183 - acc: 1.0000 - val_loss: 2.0401 - val_acc: 0.3273 - lr: 0.0010\n",
            "Epoch 84/100\n",
            "1/1 [==============================] - 0s 80ms/step - loss: 0.7730 - acc: 1.0000 - val_loss: 1.9858 - val_acc: 0.3273 - lr: 0.0010\n",
            "Epoch 85/100\n",
            "1/1 [==============================] - 0s 83ms/step - loss: 0.7302 - acc: 1.0000 - val_loss: 1.9334 - val_acc: 0.3273 - lr: 0.0010\n",
            "Epoch 86/100\n",
            "1/1 [==============================] - 0s 74ms/step - loss: 0.6886 - acc: 1.0000 - val_loss: 1.8831 - val_acc: 0.3273 - lr: 0.0010\n",
            "Epoch 87/100\n",
            "1/1 [==============================] - 0s 80ms/step - loss: 0.6503 - acc: 1.0000 - val_loss: 1.8347 - val_acc: 0.3273 - lr: 0.0010\n",
            "Epoch 88/100\n",
            "1/1 [==============================] - 0s 78ms/step - loss: 0.6136 - acc: 1.0000 - val_loss: 1.7893 - val_acc: 0.3273 - lr: 0.0010\n",
            "Epoch 89/100\n",
            "1/1 [==============================] - 0s 75ms/step - loss: 0.5790 - acc: 1.0000 - val_loss: 1.7457 - val_acc: 0.3273 - lr: 0.0010\n",
            "Epoch 90/100\n",
            "1/1 [==============================] - 0s 76ms/step - loss: 0.5486 - acc: 1.0000 - val_loss: 1.7000 - val_acc: 0.3273 - lr: 0.0010\n",
            "Epoch 91/100\n",
            "1/1 [==============================] - 0s 76ms/step - loss: 0.5144 - acc: 1.0000 - val_loss: 1.6569 - val_acc: 0.3273 - lr: 0.0010\n",
            "Epoch 92/100\n",
            "1/1 [==============================] - 0s 78ms/step - loss: 0.4854 - acc: 1.0000 - val_loss: 1.6174 - val_acc: 0.3273 - lr: 0.0010\n",
            "Epoch 93/100\n",
            "1/1 [==============================] - 0s 77ms/step - loss: 0.4574 - acc: 1.0000 - val_loss: 1.5801 - val_acc: 0.3273 - lr: 0.0010\n",
            "Epoch 94/100\n",
            "1/1 [==============================] - 0s 81ms/step - loss: 0.4312 - acc: 1.0000 - val_loss: 1.5442 - val_acc: 0.3273 - lr: 0.0010\n",
            "Epoch 95/100\n",
            "1/1 [==============================] - 0s 73ms/step - loss: 0.4066 - acc: 1.0000 - val_loss: 1.5109 - val_acc: 0.3273 - lr: 0.0010\n",
            "Epoch 96/100\n",
            "1/1 [==============================] - 0s 76ms/step - loss: 0.3830 - acc: 1.0000 - val_loss: 1.4813 - val_acc: 0.3273 - lr: 0.0010\n",
            "Epoch 97/100\n",
            "1/1 [==============================] - 0s 72ms/step - loss: 0.3602 - acc: 1.0000 - val_loss: 1.4556 - val_acc: 0.3273 - lr: 0.0010\n",
            "Epoch 98/100\n",
            "1/1 [==============================] - 0s 78ms/step - loss: 0.3388 - acc: 1.0000 - val_loss: 1.4322 - val_acc: 0.3273 - lr: 0.0010\n",
            "Epoch 99/100\n",
            "1/1 [==============================] - 0s 77ms/step - loss: 0.3191 - acc: 1.0000 - val_loss: 1.4120 - val_acc: 0.3273 - lr: 0.0010\n",
            "Epoch 100/100\n",
            "1/1 [==============================] - 0s 75ms/step - loss: 0.2997 - acc: 1.0000 - val_loss: 1.3930 - val_acc: 0.3273 - lr: 0.0010\n"
          ],
          "name": "stdout"
        }
      ]
    },
    {
      "cell_type": "code",
      "metadata": {
        "id": "ZYVup4D6LdlK",
        "colab_type": "code",
        "outputId": "aaa44880-92ca-4d1c-c31c-d247bb19cc27",
        "colab": {
          "base_uri": "https://localhost:8080/",
          "height": 545
        }
      },
      "source": [
        "plt.plot(history.history['acc'])\n",
        "plt.plot(history.history['val_acc'])\n",
        "plt.title('Accuracy')\n",
        "plt.show()\n",
        "\n",
        "plt.plot(history.history['loss'])\n",
        "plt.plot(history.history['val_loss'])\n",
        "plt.title('Loss')\n",
        "plt.show()"
      ],
      "execution_count": 37,
      "outputs": [
        {
          "output_type": "display_data",
          "data": {
            "image/png": "[encoded data removed]",
            "text/plain": [
              "<Figure size 432x288 with 1 Axes>"
            ]
          },
          "metadata": {
            "tags": [],
            "needs_background": "light"
          }
        },
        {
          "output_type": "display_data",
          "data": {
            "image/png": "[encoded data removed]",
            "text/plain": [
              "<Figure size 432x288 with 1 Axes>"
            ]
          },
          "metadata": {
            "tags": [],
            "needs_background": "light"
          }
        }
      ]
    },
    {
      "cell_type": "code",
      "metadata": {
        "id": "a9HrHizJcPzh",
        "colab_type": "code",
        "colab": {}
      },
      "source": [
        ""
      ],
      "execution_count": 0,
      "outputs": []
    }
  ]
}