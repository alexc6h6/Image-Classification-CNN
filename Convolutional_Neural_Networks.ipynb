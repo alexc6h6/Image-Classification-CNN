{
  "nbformat": 4,
  "nbformat_minor": 0,
  "metadata": {
    "colab": {
      "name": "Convolutional Neural Networks.ipynb",
      "provenance": [],
      "collapsed_sections": [],
      "authorship_tag": "ABX9TyMa2jGWFNo5JD15HrgGq3r6",
      "include_colab_link": true
    },
    "kernelspec": {
      "name": "python3",
      "display_name": "Python 3"
    },
    "accelerator": "GPU"
  },
  "cells": [
    {
      "cell_type": "markdown",
      "metadata": {
        "id": "view-in-github",
        "colab_type": "text"
      },
      "source": [
        "<a href=\"https://colab.research.google.com/github/alexc6h6/Image-Classification-CNN/blob/master/Convolutional_Neural_Networks.ipynb\" target=\"_parent\"><img src=\"https://colab.research.google.com/assets/colab-badge.svg\" alt=\"Open In Colab\"/></a>"
      ]
    },
    {
      "cell_type": "markdown",
      "metadata": {
        "id": "rI1eFKI0WxHd",
        "colab_type": "text"
      },
      "source": [
        "# Convolutional Neural Network\n",
        "\n",
        "Convolutional neural network is one of deep neural network which most commonly be applied in image classification, object detecttion, natural language processing and time series analysis. \n",
        "\n"
      ]
    },
    {
      "cell_type": "markdown",
      "metadata": {
        "id": "thGJGrINX1Du",
        "colab_type": "text"
      },
      "source": [
        "\n",
        "# Convolutional layer\n",
        "\n",
        "Generally, an image have three channels — red, green and blue, each having pixel values in the range 0 to 255.\n",
        "\n",
        "The primary purpose of a convolution in CNN is to extract features from the input image. Applying a convolution to an image is like running a filter of a certain dimension and sliding it on top of the image. That operation is translated into an element-wise multiplication between the two matrices and finally an addition of the multiplication outputs.\n",
        "\n",
        "\n",
        "![alt text](https://cdn-images-1.medium.com/max/900/1*7S266Kq-UCExS25iX_I_AQ.png)\n",
        "\n",
        "\n",
        "The filter moved with a stride of 1 and covered the whole image from edge to edge. However, the output image is shrinking on every convolution and lose some information related to the edge of the image because the pixels on the edges are scanned less by the filter than the pixels within the center of image.\n",
        "\n",
        "'Same' padding which put the image with zeros all around its border to allow the filter to slide on top and maintain the output size equal to the input. \n",
        "\n",
        "![alt text](https://cdn-images-1.medium.com/max/513/1*PBnmjdDqn-OF8JEyRgKm9Q.png)\n",
        "\n",
        "\n",
        "the formula to calculate the output size, knowing the filter size (f), stride (s), pad (p), and input size (n):\n",
        "\n",
        "![alt text](https://cdn-images-1.medium.com/max/948/1*rOyHQ2teFXX5rIIFHwYDsg.png)"
      ]
    },
    {
      "cell_type": "markdown",
      "metadata": {
        "id": "0Qk22mGKZ7Vl",
        "colab_type": "text"
      },
      "source": [
        "# Pooling Layers\n",
        "\n",
        "Max pooling: slide the filter through the input and take the largest element within the region covered by the filter.\n",
        "\n",
        "Average pooling: retains the average of the values encountered within the filter.\n",
        "\n",
        "\n",
        "![alt text](https://cdn-images-1.medium.com/max/757/1*voEBfjohEDVRK7RpNvxd-Q.png)\n",
        "\n",
        "\n",
        "\n"
      ]
    },
    {
      "cell_type": "markdown",
      "metadata": {
        "id": "53wZ5F35gE0s",
        "colab_type": "text"
      },
      "source": [
        "The example of a Convolutional Neural Network:\n",
        "\n",
        "![alt text](https://cdn-images-1.medium.com/max/900/1*_l-0PeSh3oL2Wc2ri2sVWA.png)\n",
        "\n",
        "Convolutional neural networks is to have Convolutional layers, one or more, followed by a pooling layer, and then again one or more CONV layers followed by a pooling layer and, at the end, a few FC layers followed by a softmax for classification.\n",
        "\n",
        "Normally, the deeper into the network, the sizes (nh, nw) decrease, while the number of channels (nc) increases. For each filter  in convolutional layers that detect certain pattern to extract the features from the images.\n",
        "\n"
      ]
    },
    {
      "cell_type": "code",
      "metadata": {
        "id": "HL0fQJYYEGDz",
        "colab_type": "code",
        "outputId": "67edcfaa-22d6-499b-8515-82922099f86e",
        "colab": {
          "base_uri": "https://localhost:8080/",
          "height": 51
        }
      },
      "source": [
        "\n",
        "from google.colab import drive\n",
        "import pandas as pd\n",
        "import numpy as np\n",
        "import matplotlib.pyplot as plt\n",
        "import cv2\n",
        "import os\n",
        "from glob import glob\n",
        "import tensorflow as tf\n",
        "from tensorflow.keras.preprocessing.image import ImageDataGenerator\n",
        "from tensorflow.keras.callbacks import ReduceLROnPlateau\n",
        "from tensorflow.keras.layers import Conv2D, MaxPooling2D, Flatten, Dense, Activation, BatchNormalization, Dropout\n",
        "from tensorflow.keras import regularizers\n",
        "from keras.utils import to_categorical\n",
        "from sklearn.preprocessing import LabelEncoder, OneHotEncoder\n",
        "from sklearn.model_selection import train_test_split\n",
        "from google.colab.patches import cv2_imshow\n",
        "\n",
        "print(tf.__version__)"
      ],
      "execution_count": 1,
      "outputs": [
        {
          "output_type": "stream",
          "text": [
            "Using TensorFlow backend.\n"
          ],
          "name": "stderr"
        },
        {
          "output_type": "stream",
          "text": [
            "2.2.0\n"
          ],
          "name": "stdout"
        }
      ]
    },
    {
      "cell_type": "code",
      "metadata": {
        "id": "NZgVh0oqDdvH",
        "colab_type": "code",
        "outputId": "c177fcf8-da7b-4bb2-a6eb-21111da1f106",
        "colab": {
          "base_uri": "https://localhost:8080/",
          "height": 122
        }
      },
      "source": [
        "drive.mount('/content/drive')"
      ],
      "execution_count": 2,
      "outputs": [
        {
          "output_type": "stream",
          "text": [
            "Go to this URL in a browser: https://accounts.google.com/o/oauth2/auth?client_id=947318989803-6bn6qk8qdgf4n4g3pfee6491hc0brc4i.apps.googleusercontent.com&redirect_uri=urn%3aietf%3awg%3aoauth%3a2.0%3aoob&response_type=code&scope=email%20https%3a%2f%2fwww.googleapis.com%2fauth%2fdocs.test%20https%3a%2f%2fwww.googleapis.com%2fauth%2fdrive%20https%3a%2f%2fwww.googleapis.com%2fauth%2fdrive.photos.readonly%20https%3a%2f%2fwww.googleapis.com%2fauth%2fpeopleapi.readonly\n",
            "\n",
            "Enter your authorization code:\n",
            "··········\n",
            "Mounted at /content/drive\n"
          ],
          "name": "stdout"
        }
      ]
    },
    {
      "cell_type": "code",
      "metadata": {
        "id": "gCpHVzsiartK",
        "colab_type": "code",
        "colab": {}
      },
      "source": [
        "#!pip install --upgrade tensorflow"
      ],
      "execution_count": 0,
      "outputs": []
    },
    {
      "cell_type": "markdown",
      "metadata": {
        "id": "p7VrEJaUf_A4",
        "colab_type": "text"
      },
      "source": [
        "# MNIST\n",
        "\n",
        "MNIST dataset, which is a digit recognition would be loading for CNN classification.\n",
        "\n",
        "![alt text](https://www.researchgate.net/profile/Guy_Mayraz/publication/2540340/figure/fig1/AS:279612820082697@1443676299495/Examples-of-2s-in-the-MNIST-database-first-100-examples-Note-the-very-diverse.png)"
      ]
    },
    {
      "cell_type": "code",
      "metadata": {
        "id": "zwxe-2fYZ1uo",
        "colab_type": "code",
        "colab": {}
      },
      "source": [
        "#load training and testing data\n",
        "train = pd.read_csv('/content/drive/My Drive/digit_recognizer/train.csv')\n",
        "test = pd.read_csv('/content/drive/My Drive/digit_recognizer/test.csv')"
      ],
      "execution_count": 0,
      "outputs": []
    },
    {
      "cell_type": "code",
      "metadata": {
        "id": "K0gBX67-Jvnr",
        "colab_type": "code",
        "colab": {}
      },
      "source": [
        "labels = train.iloc[:, 0]\n",
        "\n",
        "images = train.iloc[:, 1:]\n",
        "train_images = images.values.reshape(-1, 28, 28, 1)\n",
        "test_images = test.values.reshape(-1, 28, 28, 1)"
      ],
      "execution_count": 0,
      "outputs": []
    },
    {
      "cell_type": "code",
      "metadata": {
        "id": "i0l1Gtkkbg0T",
        "colab_type": "code",
        "outputId": "8693f19d-62d6-464a-ddd3-f4a2cfcef52d",
        "colab": {
          "base_uri": "https://localhost:8080/",
          "height": 68
        }
      },
      "source": [
        "print(labels.shape)\n",
        "print(train_images.shape)\n",
        "print(test_images.shape)"
      ],
      "execution_count": 6,
      "outputs": [
        {
          "output_type": "stream",
          "text": [
            "(42000,)\n",
            "(42000, 28, 28, 1)\n",
            "(28000, 28, 28, 1)\n"
          ],
          "name": "stdout"
        }
      ]
    },
    {
      "cell_type": "code",
      "metadata": {
        "id": "pFfvHCQgbhCw",
        "colab_type": "code",
        "outputId": "95afe863-e54e-4b03-9012-c96cc23676db",
        "colab": {
          "base_uri": "https://localhost:8080/",
          "height": 282
        }
      },
      "source": [
        "plt.imshow(train_images[0][:,:,0])\n",
        "print('The Number is : '+ str(labels[0]))"
      ],
      "execution_count": 7,
      "outputs": [
        {
          "output_type": "stream",
          "text": [
            "The Number is : 1\n"
          ],
          "name": "stdout"
        },
        {
          "output_type": "display_data",
          "data": {
            "image/png": "[encoded data removed]",
            "text/plain": [
              "<Figure size 432x288 with 1 Axes>"
            ]
          },
          "metadata": {
            "tags": [],
            "needs_background": "light"
          }
        }
      ]
    },
    {
      "cell_type": "code",
      "metadata": {
        "id": "RgrTyAwLbhKD",
        "colab_type": "code",
        "colab": {}
      },
      "source": [
        "#normalize image\n",
        "train_images = train_images/255\n",
        "test_images = test_images/255"
      ],
      "execution_count": 0,
      "outputs": []
    },
    {
      "cell_type": "code",
      "metadata": {
        "id": "lJHOsvzLbhP-",
        "colab_type": "code",
        "outputId": "d8ec7048-f373-4f36-ef53-e1ef502846a8",
        "colab": {
          "base_uri": "https://localhost:8080/",
          "height": 204
        }
      },
      "source": [
        "#transform label in to one_hot code\n",
        "labels = to_categorical(labels)\n",
        "print(labels.shape)\n",
        "print(labels[:10])"
      ],
      "execution_count": 9,
      "outputs": [
        {
          "output_type": "stream",
          "text": [
            "(42000, 10)\n",
            "[[0. 1. 0. 0. 0. 0. 0. 0. 0. 0.]\n",
            " [1. 0. 0. 0. 0. 0. 0. 0. 0. 0.]\n",
            " [0. 1. 0. 0. 0. 0. 0. 0. 0. 0.]\n",
            " [0. 0. 0. 0. 1. 0. 0. 0. 0. 0.]\n",
            " [1. 0. 0. 0. 0. 0. 0. 0. 0. 0.]\n",
            " [1. 0. 0. 0. 0. 0. 0. 0. 0. 0.]\n",
            " [0. 0. 0. 0. 0. 0. 0. 1. 0. 0.]\n",
            " [0. 0. 0. 1. 0. 0. 0. 0. 0. 0.]\n",
            " [0. 0. 0. 0. 0. 1. 0. 0. 0. 0.]\n",
            " [0. 0. 0. 1. 0. 0. 0. 0. 0. 0.]]\n"
          ],
          "name": "stdout"
        }
      ]
    },
    {
      "cell_type": "code",
      "metadata": {
        "id": "hifOIZQ0bhxb",
        "colab_type": "code",
        "colab": {}
      },
      "source": [
        "#split dataset into training and validation dataset\n",
        "x_train, x_val, y_train, y_val = train_test_split(train_images, labels, test_size = 0.2)"
      ],
      "execution_count": 0,
      "outputs": []
    },
    {
      "cell_type": "code",
      "metadata": {
        "id": "5zbBCQ0mLKCO",
        "colab_type": "code",
        "colab": {
          "base_uri": "https://localhost:8080/",
          "height": 833
        },
        "outputId": "00cec201-21f0-484a-84c9-6fc21769d33c"
      },
      "source": [
        "model = tf.keras.models.Sequential([Conv2D(64, (3,3), strides = 1, padding = 'same',\n",
        "                                          activation = 'relu', input_shape = (28, 28, 1)),\n",
        "                                   BatchNormalization(),\n",
        "                                   MaxPooling2D((2,2)),\n",
        "                                   Conv2D(128, (3,3), strides = 1, padding = 'same',\n",
        "                                          activation = 'relu'),\n",
        "                                   BatchNormalization(),\n",
        "                                   MaxPooling2D(2,2),\n",
        "                                   Conv2D(256, (3,3), strides = 1, padding = 'same',\n",
        "                                          activation = 'relu'),\n",
        "                                   BatchNormalization(),\n",
        "                                   MaxPooling2D(2,2),\n",
        "                                   Flatten(),\n",
        "                                   Dropout(0.25),\n",
        "                                   Dense(units = 512, kernel_regularizer = regularizers.l2(0.1)),\n",
        "                                   BatchNormalization(),\n",
        "                                   Activation('relu'),\n",
        "                                   Dropout(0.25),\n",
        "                                   Dense(units = 256, kernel_regularizer = regularizers.l2(0.1)),\n",
        "                                   BatchNormalization(),\n",
        "                                   Activation('relu'),\n",
        "                                   Dropout(0.25),\n",
        "                                   Dense(units = 10, activation = 'softmax')])\n",
        "\n",
        "model.compile(optimizer = 'adam', loss = 'categorical_crossentropy', metrics = ['accuracy'])\n",
        "\n",
        "model.summary()"
      ],
      "execution_count": 11,
      "outputs": [
        {
          "output_type": "stream",
          "text": [
            "Model: \"sequential\"\n",
            "_________________________________________________________________\n",
            "Layer (type)                 Output Shape              Param #   \n",
            "=================================================================\n",
            "conv2d (Conv2D)              (None, 28, 28, 64)        640       \n",
            "_________________________________________________________________\n",
            "batch_normalization (BatchNo (None, 28, 28, 64)        256       \n",
            "_________________________________________________________________\n",
            "max_pooling2d (MaxPooling2D) (None, 14, 14, 64)        0         \n",
            "_________________________________________________________________\n",
            "conv2d_1 (Conv2D)            (None, 14, 14, 128)       73856     \n",
            "_________________________________________________________________\n",
            "batch_normalization_1 (Batch (None, 14, 14, 128)       512       \n",
            "_________________________________________________________________\n",
            "max_pooling2d_1 (MaxPooling2 (None, 7, 7, 128)         0         \n",
            "_________________________________________________________________\n",
            "conv2d_2 (Conv2D)            (None, 7, 7, 256)         295168    \n",
            "_________________________________________________________________\n",
            "batch_normalization_2 (Batch (None, 7, 7, 256)         1024      \n",
            "_________________________________________________________________\n",
            "max_pooling2d_2 (MaxPooling2 (None, 3, 3, 256)         0         \n",
            "_________________________________________________________________\n",
            "flatten (Flatten)            (None, 2304)              0         \n",
            "_________________________________________________________________\n",
            "dropout (Dropout)            (None, 2304)              0         \n",
            "_________________________________________________________________\n",
            "dense (Dense)                (None, 512)               1180160   \n",
            "_________________________________________________________________\n",
            "batch_normalization_3 (Batch (None, 512)               2048      \n",
            "_________________________________________________________________\n",
            "activation (Activation)      (None, 512)               0         \n",
            "_________________________________________________________________\n",
            "dropout_1 (Dropout)          (None, 512)               0         \n",
            "_________________________________________________________________\n",
            "dense_1 (Dense)              (None, 256)               131328    \n",
            "_________________________________________________________________\n",
            "batch_normalization_4 (Batch (None, 256)               1024      \n",
            "_________________________________________________________________\n",
            "activation_1 (Activation)    (None, 256)               0         \n",
            "_________________________________________________________________\n",
            "dropout_2 (Dropout)          (None, 256)               0         \n",
            "_________________________________________________________________\n",
            "dense_2 (Dense)              (None, 10)                2570      \n",
            "=================================================================\n",
            "Total params: 1,688,586\n",
            "Trainable params: 1,686,154\n",
            "Non-trainable params: 2,432\n",
            "_________________________________________________________________\n"
          ],
          "name": "stdout"
        }
      ]
    },
    {
      "cell_type": "code",
      "metadata": {
        "id": "xuQrdt5IdonC",
        "colab_type": "code",
        "colab": {}
      },
      "source": [
        "#reduce learning rate on plateau\n",
        "reduce_lr = ReduceLROnPlateau(monitor = 'val_loss', \n",
        "                              patience = 5, \n",
        "                              verbose = 1, \n",
        "                              factor = 0.033,\n",
        "                              min_lr = 0.000001)"
      ],
      "execution_count": 0,
      "outputs": []
    },
    {
      "cell_type": "code",
      "metadata": {
        "id": "zztvJC6Qdosk",
        "colab_type": "code",
        "outputId": "afd5040e-cdb3-43a8-b694-1dd158f26aee",
        "colab": {
          "base_uri": "https://localhost:8080/",
          "height": 1000
        }
      },
      "source": [
        "#training\n",
        "epochs = 50\n",
        "batch = 512\n",
        "\n",
        "history = model.fit(x_train, y_train, \n",
        "                    verbose = 1,\n",
        "                    batch_size = batch,\n",
        "                    epochs = epochs,\n",
        "                    validation_data = (x_val, y_val),\n",
        "                    callbacks = [reduce_lr])"
      ],
      "execution_count": 13,
      "outputs": [
        {
          "output_type": "stream",
          "text": [
            "Epoch 1/50\n",
            "66/66 [==============================] - 4s 54ms/step - loss: 30.2138 - accuracy: 0.9100 - val_loss: 4.6220 - val_accuracy: 0.1068 - lr: 0.0010\n",
            "Epoch 2/50\n",
            "66/66 [==============================] - 3s 41ms/step - loss: 0.9072 - accuracy: 0.9768 - val_loss: 2.5945 - val_accuracy: 0.2135 - lr: 0.0010\n",
            "Epoch 3/50\n",
            "66/66 [==============================] - 3s 41ms/step - loss: 0.3758 - accuracy: 0.9774 - val_loss: 2.4789 - val_accuracy: 0.1068 - lr: 0.0010\n",
            "Epoch 4/50\n",
            "66/66 [==============================] - 3s 41ms/step - loss: 0.3540 - accuracy: 0.9778 - val_loss: 2.2431 - val_accuracy: 0.2367 - lr: 0.0010\n",
            "Epoch 5/50\n",
            "66/66 [==============================] - 3s 41ms/step - loss: 0.3151 - accuracy: 0.9821 - val_loss: 2.3284 - val_accuracy: 0.3248 - lr: 0.0010\n",
            "Epoch 6/50\n",
            "66/66 [==============================] - 3s 41ms/step - loss: 0.3145 - accuracy: 0.9825 - val_loss: 3.1843 - val_accuracy: 0.2151 - lr: 0.0010\n",
            "Epoch 7/50\n",
            "66/66 [==============================] - 3s 41ms/step - loss: 0.3042 - accuracy: 0.9840 - val_loss: 1.1364 - val_accuracy: 0.6893 - lr: 0.0010\n",
            "Epoch 8/50\n",
            "66/66 [==============================] - 3s 41ms/step - loss: 0.2904 - accuracy: 0.9854 - val_loss: 0.4973 - val_accuracy: 0.9337 - lr: 0.0010\n",
            "Epoch 9/50\n",
            "66/66 [==============================] - 3s 41ms/step - loss: 0.2922 - accuracy: 0.9849 - val_loss: 0.3606 - val_accuracy: 0.9679 - lr: 0.0010\n",
            "Epoch 10/50\n",
            "66/66 [==============================] - 3s 41ms/step - loss: 0.2784 - accuracy: 0.9862 - val_loss: 0.3886 - val_accuracy: 0.9600 - lr: 0.0010\n",
            "Epoch 11/50\n",
            "66/66 [==============================] - 3s 41ms/step - loss: 0.2725 - accuracy: 0.9874 - val_loss: 0.2996 - val_accuracy: 0.9762 - lr: 0.0010\n",
            "Epoch 12/50\n",
            "66/66 [==============================] - 3s 41ms/step - loss: 0.2596 - accuracy: 0.9878 - val_loss: 0.3495 - val_accuracy: 0.9699 - lr: 0.0010\n",
            "Epoch 13/50\n",
            "66/66 [==============================] - 3s 41ms/step - loss: 0.2774 - accuracy: 0.9882 - val_loss: 0.3251 - val_accuracy: 0.9727 - lr: 0.0010\n",
            "Epoch 14/50\n",
            "66/66 [==============================] - 3s 41ms/step - loss: 0.2717 - accuracy: 0.9885 - val_loss: 0.3544 - val_accuracy: 0.9727 - lr: 0.0010\n",
            "Epoch 15/50\n",
            "66/66 [==============================] - 3s 41ms/step - loss: 0.2672 - accuracy: 0.9895 - val_loss: 0.3024 - val_accuracy: 0.9826 - lr: 0.0010\n",
            "Epoch 16/50\n",
            "65/66 [============================>.] - ETA: 0s - loss: 0.2610 - accuracy: 0.9892\n",
            "Epoch 00016: ReduceLROnPlateau reducing learning rate to 3.30000015674159e-05.\n",
            "66/66 [==============================] - 3s 41ms/step - loss: 0.2615 - accuracy: 0.9891 - val_loss: 0.3508 - val_accuracy: 0.9780 - lr: 0.0010\n",
            "Epoch 17/50\n",
            "66/66 [==============================] - 3s 42ms/step - loss: 0.2425 - accuracy: 0.9954 - val_loss: 0.1968 - val_accuracy: 0.9929 - lr: 3.3000e-05\n",
            "Epoch 18/50\n",
            "66/66 [==============================] - 3s 42ms/step - loss: 0.1425 - accuracy: 0.9978 - val_loss: 0.1276 - val_accuracy: 0.9939 - lr: 3.3000e-05\n",
            "Epoch 19/50\n",
            "66/66 [==============================] - 3s 41ms/step - loss: 0.0899 - accuracy: 0.9982 - val_loss: 0.0921 - val_accuracy: 0.9942 - lr: 3.3000e-05\n",
            "Epoch 20/50\n",
            "66/66 [==============================] - 3s 41ms/step - loss: 0.0589 - accuracy: 0.9986 - val_loss: 0.0732 - val_accuracy: 0.9936 - lr: 3.3000e-05\n",
            "Epoch 21/50\n",
            "66/66 [==============================] - 3s 42ms/step - loss: 0.0418 - accuracy: 0.9984 - val_loss: 0.0589 - val_accuracy: 0.9937 - lr: 3.3000e-05\n",
            "Epoch 22/50\n",
            "66/66 [==============================] - 3s 41ms/step - loss: 0.0297 - accuracy: 0.9990 - val_loss: 0.0489 - val_accuracy: 0.9940 - lr: 3.3000e-05\n",
            "Epoch 23/50\n",
            "66/66 [==============================] - 3s 42ms/step - loss: 0.0248 - accuracy: 0.9987 - val_loss: 0.0435 - val_accuracy: 0.9939 - lr: 3.3000e-05\n",
            "Epoch 24/50\n",
            "66/66 [==============================] - 3s 41ms/step - loss: 0.0206 - accuracy: 0.9988 - val_loss: 0.0436 - val_accuracy: 0.9927 - lr: 3.3000e-05\n",
            "Epoch 25/50\n",
            "66/66 [==============================] - 3s 42ms/step - loss: 0.0192 - accuracy: 0.9987 - val_loss: 0.0339 - val_accuracy: 0.9949 - lr: 3.3000e-05\n",
            "Epoch 26/50\n",
            "66/66 [==============================] - 3s 41ms/step - loss: 0.0179 - accuracy: 0.9987 - val_loss: 0.0343 - val_accuracy: 0.9939 - lr: 3.3000e-05\n",
            "Epoch 27/50\n",
            "66/66 [==============================] - 3s 41ms/step - loss: 0.0183 - accuracy: 0.9985 - val_loss: 0.0364 - val_accuracy: 0.9933 - lr: 3.3000e-05\n",
            "Epoch 28/50\n",
            "66/66 [==============================] - 3s 42ms/step - loss: 0.0189 - accuracy: 0.9985 - val_loss: 0.0364 - val_accuracy: 0.9939 - lr: 3.3000e-05\n",
            "Epoch 29/50\n",
            "66/66 [==============================] - 3s 42ms/step - loss: 0.0169 - accuracy: 0.9990 - val_loss: 0.0336 - val_accuracy: 0.9945 - lr: 3.3000e-05\n",
            "Epoch 30/50\n",
            "66/66 [==============================] - 3s 41ms/step - loss: 0.0159 - accuracy: 0.9992 - val_loss: 0.0328 - val_accuracy: 0.9942 - lr: 3.3000e-05\n",
            "Epoch 31/50\n",
            "66/66 [==============================] - 3s 41ms/step - loss: 0.0157 - accuracy: 0.9987 - val_loss: 0.0364 - val_accuracy: 0.9931 - lr: 3.3000e-05\n",
            "Epoch 32/50\n",
            "66/66 [==============================] - 3s 42ms/step - loss: 0.0173 - accuracy: 0.9989 - val_loss: 0.0401 - val_accuracy: 0.9930 - lr: 3.3000e-05\n",
            "Epoch 33/50\n",
            "66/66 [==============================] - 3s 42ms/step - loss: 0.0149 - accuracy: 0.9991 - val_loss: 0.0309 - val_accuracy: 0.9940 - lr: 3.3000e-05\n",
            "Epoch 34/50\n",
            "66/66 [==============================] - 3s 42ms/step - loss: 0.0143 - accuracy: 0.9991 - val_loss: 0.0306 - val_accuracy: 0.9946 - lr: 3.3000e-05\n",
            "Epoch 35/50\n",
            "66/66 [==============================] - 3s 42ms/step - loss: 0.0171 - accuracy: 0.9988 - val_loss: 0.0339 - val_accuracy: 0.9940 - lr: 3.3000e-05\n",
            "Epoch 36/50\n",
            "66/66 [==============================] - 3s 42ms/step - loss: 0.0154 - accuracy: 0.9990 - val_loss: 0.0334 - val_accuracy: 0.9942 - lr: 3.3000e-05\n",
            "Epoch 37/50\n",
            "66/66 [==============================] - 3s 42ms/step - loss: 0.0138 - accuracy: 0.9992 - val_loss: 0.0316 - val_accuracy: 0.9949 - lr: 3.3000e-05\n",
            "Epoch 38/50\n",
            "66/66 [==============================] - 3s 42ms/step - loss: 0.0138 - accuracy: 0.9993 - val_loss: 0.0316 - val_accuracy: 0.9942 - lr: 3.3000e-05\n",
            "Epoch 39/50\n",
            "65/66 [============================>.] - ETA: 0s - loss: 0.0155 - accuracy: 0.9989\n",
            "Epoch 00039: ReduceLROnPlateau reducing learning rate to 1.0890000085055363e-06.\n",
            "66/66 [==============================] - 3s 42ms/step - loss: 0.0155 - accuracy: 0.9989 - val_loss: 0.0338 - val_accuracy: 0.9942 - lr: 3.3000e-05\n",
            "Epoch 40/50\n",
            "66/66 [==============================] - 3s 42ms/step - loss: 0.0144 - accuracy: 0.9993 - val_loss: 0.0329 - val_accuracy: 0.9942 - lr: 1.0890e-06\n",
            "Epoch 41/50\n",
            "66/66 [==============================] - 3s 42ms/step - loss: 0.0136 - accuracy: 0.9995 - val_loss: 0.0326 - val_accuracy: 0.9942 - lr: 1.0890e-06\n",
            "Epoch 42/50\n",
            "66/66 [==============================] - 3s 42ms/step - loss: 0.0130 - accuracy: 0.9996 - val_loss: 0.0323 - val_accuracy: 0.9943 - lr: 1.0890e-06\n",
            "Epoch 43/50\n",
            "66/66 [==============================] - 3s 43ms/step - loss: 0.0130 - accuracy: 0.9996 - val_loss: 0.0317 - val_accuracy: 0.9943 - lr: 1.0890e-06\n",
            "Epoch 44/50\n",
            "65/66 [============================>.] - ETA: 0s - loss: 0.0123 - accuracy: 0.9997\n",
            "Epoch 00044: ReduceLROnPlateau reducing learning rate to 1e-06.\n",
            "66/66 [==============================] - 3s 42ms/step - loss: 0.0123 - accuracy: 0.9997 - val_loss: 0.0312 - val_accuracy: 0.9942 - lr: 1.0890e-06\n",
            "Epoch 45/50\n",
            "66/66 [==============================] - 3s 42ms/step - loss: 0.0121 - accuracy: 0.9998 - val_loss: 0.0309 - val_accuracy: 0.9944 - lr: 1.0000e-06\n",
            "Epoch 46/50\n",
            "66/66 [==============================] - 3s 42ms/step - loss: 0.0117 - accuracy: 0.9998 - val_loss: 0.0305 - val_accuracy: 0.9945 - lr: 1.0000e-06\n",
            "Epoch 47/50\n",
            "66/66 [==============================] - 3s 42ms/step - loss: 0.0117 - accuracy: 0.9997 - val_loss: 0.0304 - val_accuracy: 0.9945 - lr: 1.0000e-06\n",
            "Epoch 48/50\n",
            "66/66 [==============================] - 3s 42ms/step - loss: 0.0115 - accuracy: 0.9998 - val_loss: 0.0302 - val_accuracy: 0.9946 - lr: 1.0000e-06\n",
            "Epoch 49/50\n",
            "66/66 [==============================] - 3s 42ms/step - loss: 0.0114 - accuracy: 0.9997 - val_loss: 0.0301 - val_accuracy: 0.9946 - lr: 1.0000e-06\n",
            "Epoch 50/50\n",
            "66/66 [==============================] - 3s 42ms/step - loss: 0.0112 - accuracy: 0.9998 - val_loss: 0.0296 - val_accuracy: 0.9950 - lr: 1.0000e-06\n"
          ],
          "name": "stdout"
        }
      ]
    },
    {
      "cell_type": "code",
      "metadata": {
        "id": "HjIZ3kTlnnpl",
        "colab_type": "code",
        "outputId": "b4e8b08a-b5f9-478e-fa50-6c8642cda238",
        "colab": {
          "base_uri": "https://localhost:8080/",
          "height": 545
        }
      },
      "source": [
        "plt.plot(history.history['accuracy'])\n",
        "plt.plot(history.history['val_accuracy'])\n",
        "plt.title('Accuracy')\n",
        "plt.show()\n",
        "\n",
        "plt.plot(history.history['loss'])\n",
        "plt.plot(history.history['val_loss'])\n",
        "plt.title('Loss')\n",
        "plt.show()"
      ],
      "execution_count": 14,
      "outputs": [
        {
          "output_type": "display_data",
          "data": {
            "image/png": "[encoded data removed]",
            "text/plain": [
              "<Figure size 432x288 with 1 Axes>"
            ]
          },
          "metadata": {
            "tags": [],
            "needs_background": "light"
          }
        },
        {
          "output_type": "display_data",
          "data": {
            "image/png": "[encoded data removed]",
            "text/plain": [
              "<Figure size 432x288 with 1 Axes>"
            ]
          },
          "metadata": {
            "tags": [],
            "needs_background": "light"
          }
        }
      ]
    },
    {
      "cell_type": "markdown",
      "metadata": {
        "id": "uSmP2LEZgkcJ",
        "colab_type": "text"
      },
      "source": [
        "# Fruit Classification\n",
        "\n",
        "Convoluational neural network can be applied in more complicated images classification such as 3-channel images(RGB) with complex texture."
      ]
    },
    {
      "cell_type": "code",
      "metadata": {
        "id": "QVSYCpmBDv2U",
        "colab_type": "code",
        "colab": {}
      },
      "source": [
        "train_folder_path = '/content/drive/My Drive/fruit/train'\n",
        "test_folder_path = '/content/drive/My Drive/fruit/test'"
      ],
      "execution_count": 0,
      "outputs": []
    },
    {
      "cell_type": "code",
      "metadata": {
        "id": "8tn-QYWsiO3F",
        "colab_type": "code",
        "outputId": "528362d2-1653-49bd-be84-6176cec1d155",
        "colab": {
          "base_uri": "https://localhost:8080/",
          "height": 267
        }
      },
      "source": [
        "image = '/content/drive/My Drive/fruit/train/apple/apple_2.jpg'\n",
        "\n",
        "img = cv2.imread(image, cv2.IMREAD_COLOR)\n",
        "cv2_imshow(img)"
      ],
      "execution_count": 35,
      "outputs": [
        {
          "output_type": "display_data",
          "data": {
            "image/png": "[encoded data removed]",
            "text/plain": [
              "<PIL.Image.Image image mode=RGB size=250x250 at 0x7FE1546CA320>"
            ]
          },
          "metadata": {
            "tags": []
          }
        }
      ]
    },
    {
      "cell_type": "code",
      "metadata": {
        "id": "0Ec6NUCdV5b6",
        "colab_type": "code",
        "colab": {
          "base_uri": "https://localhost:8080/",
          "height": 51
        },
        "outputId": "2fd76914-b98a-45c9-aeca-8e68dd340665"
      },
      "source": [
        "images = []\n",
        "labels = []\n",
        "\n",
        "for class_folder in os.listdir(train_folder_path):\n",
        "  class_folder_path = os.path.join(train_folder_path, class_folder)\n",
        "  for image_path in glob(os.path.join(class_folder_path, \"*.jpg\")):\n",
        "    img = cv2.imread(image_path, cv2.IMREAD_COLOR)\n",
        "    img = cv2.resize(img, (100, 100))\n",
        "\n",
        "    images.append(img)\n",
        "    labels.append(class_folder)\n",
        "\n",
        "images = np.array(images)\n",
        "labels = np.array(labels).reshape(-1, 1)\n",
        "\n",
        "print(images.shape)\n",
        "print(labels.shape)\n"
      ],
      "execution_count": 36,
      "outputs": [
        {
          "output_type": "stream",
          "text": [
            "(220, 100, 100, 3)\n",
            "(220, 1)\n"
          ],
          "name": "stdout"
        }
      ]
    },
    {
      "cell_type": "code",
      "metadata": {
        "id": "CbEUxT0XjmH7",
        "colab_type": "code",
        "colab": {
          "base_uri": "https://localhost:8080/",
          "height": 51
        },
        "outputId": "516f88da-e768-49dd-d06c-699cf71270db"
      },
      "source": [
        "test_images = []\n",
        "test_labels = []\n",
        "\n",
        "for class_folder in os.listdir(test_folder_path):\n",
        "  class_folder_path = os.path.join(test_folder_path, class_folder)\n",
        "  for image_path in glob(os.path.join(class_folder_path, \"*.jpg\")):\n",
        "    img = cv2.imread(image_path, cv2.IMREAD_COLOR)\n",
        "    img = cv2.resize(img, (100, 100))\n",
        "\n",
        "    test_images.append(img)\n",
        "    test_labels.append(class_folder)\n",
        "\n",
        "test_images = np.array(test_images)\n",
        "test_labels = np.array(test_labels).reshape(-1, 1)\n",
        "\n",
        "print(test_images.shape)\n",
        "print(test_labels.shape)\n"
      ],
      "execution_count": 37,
      "outputs": [
        {
          "output_type": "stream",
          "text": [
            "(55, 100, 100, 3)\n",
            "(55, 1)\n"
          ],
          "name": "stdout"
        }
      ]
    },
    {
      "cell_type": "code",
      "metadata": {
        "id": "BW4qJGR3j6XR",
        "colab_type": "code",
        "colab": {}
      },
      "source": [
        "images = images/255\n",
        "test_images = test_images/255"
      ],
      "execution_count": 0,
      "outputs": []
    },
    {
      "cell_type": "code",
      "metadata": {
        "id": "NPuS7XiUkrtk",
        "colab_type": "code",
        "colab": {
          "base_uri": "https://localhost:8080/",
          "height": 139
        },
        "outputId": "b92586a9-b7ad-4322-8020-8c21f9e77bb4"
      },
      "source": [
        "le = LabelEncoder()\n",
        "ohe = OneHotEncoder(categories='auto')\n",
        "\n",
        "num_labels = le.fit_transform(labels)\n",
        "oh_labels = ohe.fit_transform(num_labels.reshape(-1, 1)).toarray()\n",
        "\n",
        "num_test_labels = le.transform(test_labels)\n",
        "oh_test_labels = ohe.transform(num_test_labels.reshape(-1, 1)).toarray()\n",
        "\n",
        "print(oh_labels.shape)\n",
        "print(oh_test_labels.shape)"
      ],
      "execution_count": 48,
      "outputs": [
        {
          "output_type": "stream",
          "text": [
            "(220, 3)\n",
            "(55, 3)\n"
          ],
          "name": "stdout"
        },
        {
          "output_type": "stream",
          "text": [
            "/usr/local/lib/python3.6/dist-packages/sklearn/preprocessing/_label.py:251: DataConversionWarning: A column-vector y was passed when a 1d array was expected. Please change the shape of y to (n_samples, ), for example using ravel().\n",
            "  y = column_or_1d(y, warn=True)\n",
            "/usr/local/lib/python3.6/dist-packages/sklearn/preprocessing/_label.py:268: DataConversionWarning: A column-vector y was passed when a 1d array was expected. Please change the shape of y to (n_samples, ), for example using ravel().\n",
            "  y = column_or_1d(y, warn=True)\n"
          ],
          "name": "stderr"
        }
      ]
    },
    {
      "cell_type": "code",
      "metadata": {
        "id": "RduHaKyDGV0-",
        "colab_type": "code",
        "colab": {}
      },
      "source": [
        "reduce_lr = ReduceLROnPlateau(monitor = 'val_loss',\n",
        "                              petience = 5,\n",
        "                              min_lr = 0.000001,\n",
        "                              verbose = 1,\n",
        "                              factor = 0.033)"
      ],
      "execution_count": 0,
      "outputs": []
    },
    {
      "cell_type": "code",
      "metadata": {
        "id": "eMA96x5sHvGo",
        "colab_type": "code",
        "outputId": "1db6fc88-b7f9-4843-c77a-d35d86b81bdf",
        "colab": {
          "base_uri": "https://localhost:8080/",
          "height": 901
        }
      },
      "source": [
        "model = tf.keras.models.Sequential([tf.keras.layers.Conv2D(64, (3,3), strides = 1, padding = 'same',\n",
        "                                                           activation = 'relu', input_shape = (100, 100, 3)),\n",
        "                                    tf.keras.layers.BatchNormalization(),\n",
        "                                    tf.keras.layers.MaxPooling2D((2,2)),\n",
        "                                    tf.keras.layers.Dropout(0.4),\n",
        "                                    tf.keras.layers.Conv2D(128, (3,3), strides =1, padding = 'same',\n",
        "                                                           activation = 'relu'),\n",
        "                                    tf.keras.layers.BatchNormalization(),\n",
        "                                    tf.keras.layers.MaxPooling2D((2,2)),\n",
        "                                    tf.keras.layers.Dropout(0.4),\n",
        "                                    tf.keras.layers.Conv2D(256, (3,3), strides = 1, padding = 'same',\n",
        "                                                           activation = 'relu'),\n",
        "                                    tf.keras.layers.BatchNormalization(),\n",
        "                                    tf.keras.layers.MaxPooling2D((2,2)),\n",
        "                                    tf.keras.layers.Dropout(0.4),\n",
        "                                    tf.keras.layers.Flatten(),\n",
        "                                    tf.keras.layers.Dense(512, kernel_regularizer = regularizers.l2(0.1)),\n",
        "                                    tf.keras.layers.BatchNormalization(),\n",
        "                                    tf.keras.layers.Activation('relu'),\n",
        "                                    tf.keras.layers.Dropout(0.4),\n",
        "                                    tf.keras.layers.Dense(256, kernel_regularizer = regularizers.l2(0.1)),\n",
        "                                    tf.keras.layers.BatchNormalization(),\n",
        "                                    tf.keras.layers.Activation('relu'),\n",
        "                                    tf.keras.layers.Dropout(0.4),\n",
        "                                    tf.keras.layers.Dense(3, activation = 'softmax')])\n",
        "\n",
        "model.compile(optimizer = 'adam', loss = 'categorical_crossentropy', metrics = ['acc'])\n",
        "\n",
        "model.summary()"
      ],
      "execution_count": 54,
      "outputs": [
        {
          "output_type": "stream",
          "text": [
            "Model: \"sequential_3\"\n",
            "_________________________________________________________________\n",
            "Layer (type)                 Output Shape              Param #   \n",
            "=================================================================\n",
            "conv2d_9 (Conv2D)            (None, 100, 100, 64)      1792      \n",
            "_________________________________________________________________\n",
            "batch_normalization_15 (Batc (None, 100, 100, 64)      256       \n",
            "_________________________________________________________________\n",
            "max_pooling2d_9 (MaxPooling2 (None, 50, 50, 64)        0         \n",
            "_________________________________________________________________\n",
            "dropout_13 (Dropout)         (None, 50, 50, 64)        0         \n",
            "_________________________________________________________________\n",
            "conv2d_10 (Conv2D)           (None, 50, 50, 128)       73856     \n",
            "_________________________________________________________________\n",
            "batch_normalization_16 (Batc (None, 50, 50, 128)       512       \n",
            "_________________________________________________________________\n",
            "max_pooling2d_10 (MaxPooling (None, 25, 25, 128)       0         \n",
            "_________________________________________________________________\n",
            "dropout_14 (Dropout)         (None, 25, 25, 128)       0         \n",
            "_________________________________________________________________\n",
            "conv2d_11 (Conv2D)           (None, 25, 25, 256)       295168    \n",
            "_________________________________________________________________\n",
            "batch_normalization_17 (Batc (None, 25, 25, 256)       1024      \n",
            "_________________________________________________________________\n",
            "max_pooling2d_11 (MaxPooling (None, 12, 12, 256)       0         \n",
            "_________________________________________________________________\n",
            "dropout_15 (Dropout)         (None, 12, 12, 256)       0         \n",
            "_________________________________________________________________\n",
            "flatten_3 (Flatten)          (None, 36864)             0         \n",
            "_________________________________________________________________\n",
            "dense_9 (Dense)              (None, 512)               18874880  \n",
            "_________________________________________________________________\n",
            "batch_normalization_18 (Batc (None, 512)               2048      \n",
            "_________________________________________________________________\n",
            "activation_6 (Activation)    (None, 512)               0         \n",
            "_________________________________________________________________\n",
            "dropout_16 (Dropout)         (None, 512)               0         \n",
            "_________________________________________________________________\n",
            "dense_10 (Dense)             (None, 256)               131328    \n",
            "_________________________________________________________________\n",
            "batch_normalization_19 (Batc (None, 256)               1024      \n",
            "_________________________________________________________________\n",
            "activation_7 (Activation)    (None, 256)               0         \n",
            "_________________________________________________________________\n",
            "dropout_17 (Dropout)         (None, 256)               0         \n",
            "_________________________________________________________________\n",
            "dense_11 (Dense)             (None, 3)                 771       \n",
            "=================================================================\n",
            "Total params: 19,382,659\n",
            "Trainable params: 19,380,227\n",
            "Non-trainable params: 2,432\n",
            "_________________________________________________________________\n"
          ],
          "name": "stdout"
        }
      ]
    },
    {
      "cell_type": "code",
      "metadata": {
        "id": "J-y_2Z-WJqAJ",
        "colab_type": "code",
        "outputId": "8ab3dbe2-a9ae-4b4f-964a-6eebc5492f5a",
        "colab": {
          "base_uri": "https://localhost:8080/",
          "height": 1000
        }
      },
      "source": [
        "epochs = 100\n",
        "\n",
        "history = model.fit(images, oh_labels,\n",
        "                    batch_size = batch,\n",
        "                    epochs = epochs,\n",
        "                    verbose = 1,\n",
        "                    callbacks = [reduce_lr],\n",
        "                    validation_data = (test_images, oh_test_labels))"
      ],
      "execution_count": 55,
      "outputs": [
        {
          "output_type": "stream",
          "text": [
            "Epoch 1/100\n",
            "1/1 [==============================] - 0s 208ms/step - loss: 136.5672 - acc: 0.3318 - val_loss: 125.6591 - val_acc: 0.3273 - lr: 0.0010\n",
            "Epoch 2/100\n",
            "1/1 [==============================] - 0s 46ms/step - loss: 125.2260 - acc: 0.7273 - val_loss: 112.5064 - val_acc: 0.3455 - lr: 0.0010\n",
            "Epoch 3/100\n",
            "1/1 [==============================] - 0s 49ms/step - loss: 111.8420 - acc: 0.8591 - val_loss: 99.2568 - val_acc: 0.3273 - lr: 0.0010\n",
            "Epoch 4/100\n",
            "1/1 [==============================] - 0s 43ms/step - loss: 98.4496 - acc: 0.9227 - val_loss: 86.7158 - val_acc: 0.5091 - lr: 0.0010\n",
            "Epoch 5/100\n",
            "1/1 [==============================] - 0s 49ms/step - loss: 85.8517 - acc: 0.9500 - val_loss: 75.3020 - val_acc: 0.3455 - lr: 0.0010\n",
            "Epoch 6/100\n",
            "1/1 [==============================] - 0s 45ms/step - loss: 74.3717 - acc: 0.9455 - val_loss: 65.1781 - val_acc: 0.3273 - lr: 0.0010\n",
            "Epoch 7/100\n",
            "1/1 [==============================] - 0s 46ms/step - loss: 64.1660 - acc: 0.9591 - val_loss: 56.4102 - val_acc: 0.3273 - lr: 0.0010\n",
            "Epoch 8/100\n",
            "1/1 [==============================] - 0s 51ms/step - loss: 55.3306 - acc: 0.9818 - val_loss: 48.9857 - val_acc: 0.3273 - lr: 0.0010\n",
            "Epoch 9/100\n",
            "1/1 [==============================] - 0s 43ms/step - loss: 47.8978 - acc: 0.9818 - val_loss: 42.8575 - val_acc: 0.3273 - lr: 0.0010\n",
            "Epoch 10/100\n",
            "1/1 [==============================] - 0s 44ms/step - loss: 41.7303 - acc: 0.9864 - val_loss: 37.9422 - val_acc: 0.3273 - lr: 0.0010\n",
            "Epoch 11/100\n",
            "1/1 [==============================] - 0s 46ms/step - loss: 36.7805 - acc: 0.9909 - val_loss: 34.1180 - val_acc: 0.3273 - lr: 0.0010\n",
            "Epoch 12/100\n",
            "1/1 [==============================] - 0s 49ms/step - loss: 32.9124 - acc: 0.9909 - val_loss: 31.2137 - val_acc: 0.3273 - lr: 0.0010\n",
            "Epoch 13/100\n",
            "1/1 [==============================] - 0s 47ms/step - loss: 29.9538 - acc: 1.0000 - val_loss: 29.0730 - val_acc: 0.3273 - lr: 0.0010\n",
            "Epoch 14/100\n",
            "1/1 [==============================] - 0s 44ms/step - loss: 27.7554 - acc: 0.9955 - val_loss: 27.5253 - val_acc: 0.3273 - lr: 0.0010\n",
            "Epoch 15/100\n",
            "1/1 [==============================] - 0s 45ms/step - loss: 26.1579 - acc: 0.9909 - val_loss: 26.4075 - val_acc: 0.3273 - lr: 0.0010\n",
            "Epoch 16/100\n",
            "1/1 [==============================] - 0s 44ms/step - loss: 24.9799 - acc: 1.0000 - val_loss: 25.5952 - val_acc: 0.3273 - lr: 0.0010\n",
            "Epoch 17/100\n",
            "1/1 [==============================] - 0s 45ms/step - loss: 24.1258 - acc: 1.0000 - val_loss: 24.9634 - val_acc: 0.3273 - lr: 0.0010\n",
            "Epoch 18/100\n",
            "1/1 [==============================] - 0s 43ms/step - loss: 23.4501 - acc: 1.0000 - val_loss: 24.4016 - val_acc: 0.3273 - lr: 0.0010\n",
            "Epoch 19/100\n",
            "1/1 [==============================] - 0s 46ms/step - loss: 22.8752 - acc: 1.0000 - val_loss: 23.8462 - val_acc: 0.3273 - lr: 0.0010\n",
            "Epoch 20/100\n",
            "1/1 [==============================] - 0s 49ms/step - loss: 22.3299 - acc: 1.0000 - val_loss: 23.2578 - val_acc: 0.3273 - lr: 0.0010\n",
            "Epoch 21/100\n",
            "1/1 [==============================] - 0s 43ms/step - loss: 21.7527 - acc: 1.0000 - val_loss: 22.6326 - val_acc: 0.3273 - lr: 0.0010\n",
            "Epoch 22/100\n",
            "1/1 [==============================] - 0s 53ms/step - loss: 21.1401 - acc: 0.9955 - val_loss: 21.9624 - val_acc: 0.3273 - lr: 0.0010\n",
            "Epoch 23/100\n",
            "1/1 [==============================] - 0s 45ms/step - loss: 20.4576 - acc: 1.0000 - val_loss: 21.2354 - val_acc: 0.3273 - lr: 0.0010\n",
            "Epoch 24/100\n",
            "1/1 [==============================] - 0s 43ms/step - loss: 19.7338 - acc: 0.9955 - val_loss: 20.4622 - val_acc: 0.3273 - lr: 0.0010\n",
            "Epoch 25/100\n",
            "1/1 [==============================] - 0s 47ms/step - loss: 18.9637 - acc: 0.9864 - val_loss: 19.6062 - val_acc: 0.3273 - lr: 0.0010\n",
            "Epoch 26/100\n",
            "1/1 [==============================] - 0s 46ms/step - loss: 18.1616 - acc: 0.9909 - val_loss: 18.7846 - val_acc: 0.3273 - lr: 0.0010\n",
            "Epoch 27/100\n",
            "1/1 [==============================] - 0s 51ms/step - loss: 17.3047 - acc: 1.0000 - val_loss: 17.9522 - val_acc: 0.3273 - lr: 0.0010\n",
            "Epoch 28/100\n",
            "1/1 [==============================] - 0s 45ms/step - loss: 16.4693 - acc: 0.9955 - val_loss: 17.1044 - val_acc: 0.3273 - lr: 0.0010\n",
            "Epoch 29/100\n",
            "1/1 [==============================] - 0s 47ms/step - loss: 15.6646 - acc: 0.9864 - val_loss: 16.2348 - val_acc: 0.3273 - lr: 0.0010\n",
            "Epoch 30/100\n",
            "1/1 [==============================] - 0s 44ms/step - loss: 14.8226 - acc: 0.9955 - val_loss: 15.3871 - val_acc: 0.3273 - lr: 0.0010\n",
            "Epoch 31/100\n",
            "1/1 [==============================] - 0s 51ms/step - loss: 14.0181 - acc: 0.9955 - val_loss: 14.5810 - val_acc: 0.3273 - lr: 0.0010\n",
            "Epoch 32/100\n",
            "1/1 [==============================] - 0s 46ms/step - loss: 13.2328 - acc: 1.0000 - val_loss: 13.8133 - val_acc: 0.3273 - lr: 0.0010\n",
            "Epoch 33/100\n",
            "1/1 [==============================] - 0s 46ms/step - loss: 12.4847 - acc: 1.0000 - val_loss: 13.0892 - val_acc: 0.3273 - lr: 0.0010\n",
            "Epoch 34/100\n",
            "1/1 [==============================] - 0s 47ms/step - loss: 11.7699 - acc: 0.9955 - val_loss: 12.4170 - val_acc: 0.3273 - lr: 0.0010\n",
            "Epoch 35/100\n",
            "1/1 [==============================] - 0s 43ms/step - loss: 11.0992 - acc: 0.9909 - val_loss: 11.8024 - val_acc: 0.3273 - lr: 0.0010\n",
            "Epoch 36/100\n",
            "1/1 [==============================] - 0s 45ms/step - loss: 10.4609 - acc: 1.0000 - val_loss: 11.2359 - val_acc: 0.3273 - lr: 0.0010\n",
            "Epoch 37/100\n",
            "1/1 [==============================] - 0s 45ms/step - loss: 9.8697 - acc: 1.0000 - val_loss: 10.7137 - val_acc: 0.3273 - lr: 0.0010\n",
            "Epoch 38/100\n",
            "1/1 [==============================] - 0s 42ms/step - loss: 9.3316 - acc: 1.0000 - val_loss: 10.2358 - val_acc: 0.3273 - lr: 0.0010\n",
            "Epoch 39/100\n",
            "1/1 [==============================] - 0s 49ms/step - loss: 8.8394 - acc: 1.0000 - val_loss: 9.7767 - val_acc: 0.3273 - lr: 0.0010\n",
            "Epoch 40/100\n",
            "1/1 [==============================] - 0s 46ms/step - loss: 8.3813 - acc: 1.0000 - val_loss: 9.3591 - val_acc: 0.3273 - lr: 0.0010\n",
            "Epoch 41/100\n",
            "1/1 [==============================] - 0s 51ms/step - loss: 7.9659 - acc: 1.0000 - val_loss: 8.9631 - val_acc: 0.3273 - lr: 0.0010\n",
            "Epoch 42/100\n",
            "1/1 [==============================] - 0s 46ms/step - loss: 7.5886 - acc: 1.0000 - val_loss: 8.6060 - val_acc: 0.3273 - lr: 0.0010\n",
            "Epoch 43/100\n",
            "1/1 [==============================] - 0s 47ms/step - loss: 7.2415 - acc: 1.0000 - val_loss: 8.2764 - val_acc: 0.3273 - lr: 0.0010\n",
            "Epoch 44/100\n",
            "1/1 [==============================] - 0s 47ms/step - loss: 6.9392 - acc: 0.9955 - val_loss: 7.9838 - val_acc: 0.3273 - lr: 0.0010\n",
            "Epoch 45/100\n",
            "1/1 [==============================] - 0s 46ms/step - loss: 6.6391 - acc: 0.9955 - val_loss: 7.7573 - val_acc: 0.3273 - lr: 0.0010\n",
            "Epoch 46/100\n",
            "1/1 [==============================] - 0s 52ms/step - loss: 6.3816 - acc: 1.0000 - val_loss: 7.4802 - val_acc: 0.3273 - lr: 0.0010\n",
            "Epoch 47/100\n",
            "1/1 [==============================] - 0s 47ms/step - loss: 6.1555 - acc: 1.0000 - val_loss: 7.2404 - val_acc: 0.3273 - lr: 0.0010\n",
            "Epoch 48/100\n",
            "1/1 [==============================] - 0s 45ms/step - loss: 5.9551 - acc: 1.0000 - val_loss: 7.0110 - val_acc: 0.3273 - lr: 0.0010\n",
            "Epoch 49/100\n",
            "1/1 [==============================] - 0s 44ms/step - loss: 5.7543 - acc: 1.0000 - val_loss: 6.7906 - val_acc: 0.3273 - lr: 0.0010\n",
            "Epoch 50/100\n",
            "1/1 [==============================] - 0s 52ms/step - loss: 5.5616 - acc: 1.0000 - val_loss: 6.5626 - val_acc: 0.3273 - lr: 0.0010\n",
            "Epoch 51/100\n",
            "1/1 [==============================] - 0s 43ms/step - loss: 5.3537 - acc: 1.0000 - val_loss: 6.3250 - val_acc: 0.3273 - lr: 0.0010\n",
            "Epoch 52/100\n",
            "1/1 [==============================] - 0s 49ms/step - loss: 5.1262 - acc: 1.0000 - val_loss: 6.0789 - val_acc: 0.3273 - lr: 0.0010\n",
            "Epoch 53/100\n",
            "1/1 [==============================] - 0s 45ms/step - loss: 4.8882 - acc: 1.0000 - val_loss: 5.8228 - val_acc: 0.3273 - lr: 0.0010\n",
            "Epoch 54/100\n",
            "1/1 [==============================] - 0s 51ms/step - loss: 4.6344 - acc: 1.0000 - val_loss: 5.5604 - val_acc: 0.3273 - lr: 0.0010\n",
            "Epoch 55/100\n",
            "1/1 [==============================] - 0s 44ms/step - loss: 4.3732 - acc: 1.0000 - val_loss: 5.3093 - val_acc: 0.3273 - lr: 0.0010\n",
            "Epoch 56/100\n",
            "1/1 [==============================] - 0s 45ms/step - loss: 4.1113 - acc: 1.0000 - val_loss: 5.0654 - val_acc: 0.3273 - lr: 0.0010\n",
            "Epoch 57/100\n",
            "1/1 [==============================] - 0s 43ms/step - loss: 3.8573 - acc: 1.0000 - val_loss: 4.8288 - val_acc: 0.3273 - lr: 0.0010\n",
            "Epoch 58/100\n",
            "1/1 [==============================] - 0s 43ms/step - loss: 3.6183 - acc: 1.0000 - val_loss: 4.6082 - val_acc: 0.3273 - lr: 0.0010\n",
            "Epoch 59/100\n",
            "1/1 [==============================] - 0s 44ms/step - loss: 3.3978 - acc: 1.0000 - val_loss: 4.3993 - val_acc: 0.3273 - lr: 0.0010\n",
            "Epoch 60/100\n",
            "1/1 [==============================] - 0s 49ms/step - loss: 3.1929 - acc: 1.0000 - val_loss: 4.2134 - val_acc: 0.3273 - lr: 0.0010\n",
            "Epoch 61/100\n",
            "1/1 [==============================] - 0s 46ms/step - loss: 3.0140 - acc: 1.0000 - val_loss: 4.0497 - val_acc: 0.3273 - lr: 0.0010\n",
            "Epoch 62/100\n",
            "1/1 [==============================] - 0s 45ms/step - loss: 2.8529 - acc: 1.0000 - val_loss: 3.9182 - val_acc: 0.3273 - lr: 0.0010\n",
            "Epoch 63/100\n",
            "1/1 [==============================] - 0s 45ms/step - loss: 2.7184 - acc: 0.9955 - val_loss: 3.8319 - val_acc: 0.3273 - lr: 0.0010\n",
            "Epoch 64/100\n",
            "1/1 [==============================] - 0s 46ms/step - loss: 2.6332 - acc: 0.9818 - val_loss: 3.9024 - val_acc: 0.3273 - lr: 0.0010\n",
            "Epoch 65/100\n",
            "1/1 [==============================] - 0s 50ms/step - loss: 2.6244 - acc: 0.9773 - val_loss: 3.7926 - val_acc: 0.3273 - lr: 0.0010\n",
            "Epoch 66/100\n",
            "1/1 [==============================] - 0s 44ms/step - loss: 2.6441 - acc: 0.9909 - val_loss: 3.8366 - val_acc: 0.3273 - lr: 0.0010\n",
            "Epoch 67/100\n",
            "1/1 [==============================] - 0s 46ms/step - loss: 2.7692 - acc: 0.9909 - val_loss: 3.9675 - val_acc: 0.3273 - lr: 0.0010\n",
            "Epoch 68/100\n",
            "1/1 [==============================] - 0s 45ms/step - loss: 2.9284 - acc: 1.0000 - val_loss: 4.1031 - val_acc: 0.3818 - lr: 0.0010\n",
            "Epoch 69/100\n",
            "1/1 [==============================] - 0s 53ms/step - loss: 3.0885 - acc: 0.9955 - val_loss: 4.1977 - val_acc: 0.4182 - lr: 0.0010\n",
            "Epoch 70/100\n",
            "1/1 [==============================] - 0s 45ms/step - loss: 3.1888 - acc: 1.0000 - val_loss: 4.2185 - val_acc: 0.4182 - lr: 0.0010\n",
            "Epoch 71/100\n",
            "1/1 [==============================] - 0s 46ms/step - loss: 3.2085 - acc: 1.0000 - val_loss: 4.1587 - val_acc: 0.3818 - lr: 0.0010\n",
            "Epoch 72/100\n",
            "1/1 [==============================] - 0s 44ms/step - loss: 3.1412 - acc: 1.0000 - val_loss: 4.0217 - val_acc: 0.3455 - lr: 0.0010\n",
            "Epoch 73/100\n",
            "1/1 [==============================] - 0s 44ms/step - loss: 2.9988 - acc: 0.9955 - val_loss: 3.8195 - val_acc: 0.3273 - lr: 0.0010\n",
            "Epoch 74/100\n",
            "1/1 [==============================] - 0s 44ms/step - loss: 2.7815 - acc: 1.0000 - val_loss: 3.5778 - val_acc: 0.3273 - lr: 0.0010\n",
            "Epoch 75/100\n",
            "1/1 [==============================] - 0s 43ms/step - loss: 2.5315 - acc: 1.0000 - val_loss: 3.3224 - val_acc: 0.3273 - lr: 0.0010\n",
            "Epoch 76/100\n",
            "1/1 [==============================] - 0s 44ms/step - loss: 2.2780 - acc: 0.9955 - val_loss: 3.0866 - val_acc: 0.3273 - lr: 0.0010\n",
            "Epoch 77/100\n",
            "1/1 [==============================] - 0s 44ms/step - loss: 2.0149 - acc: 1.0000 - val_loss: 2.8801 - val_acc: 0.3273 - lr: 0.0010\n",
            "Epoch 78/100\n",
            "1/1 [==============================] - 0s 45ms/step - loss: 1.7883 - acc: 1.0000 - val_loss: 2.7032 - val_acc: 0.3273 - lr: 0.0010\n",
            "Epoch 79/100\n",
            "1/1 [==============================] - 0s 50ms/step - loss: 1.6057 - acc: 0.9955 - val_loss: 2.5759 - val_acc: 0.3273 - lr: 0.0010\n",
            "Epoch 80/100\n",
            "1/1 [==============================] - 0s 45ms/step - loss: 1.4539 - acc: 1.0000 - val_loss: 2.4985 - val_acc: 0.3273 - lr: 0.0010\n",
            "Epoch 81/100\n",
            "1/1 [==============================] - 0s 44ms/step - loss: 1.3555 - acc: 1.0000 - val_loss: 2.4427 - val_acc: 0.3273 - lr: 0.0010\n",
            "Epoch 82/100\n",
            "1/1 [==============================] - 0s 45ms/step - loss: 1.2915 - acc: 1.0000 - val_loss: 2.4096 - val_acc: 0.3273 - lr: 0.0010\n",
            "Epoch 83/100\n",
            "1/1 [==============================] - 0s 45ms/step - loss: 1.2677 - acc: 1.0000 - val_loss: 2.4218 - val_acc: 0.3273 - lr: 0.0010\n",
            "Epoch 84/100\n",
            "1/1 [==============================] - 0s 48ms/step - loss: 1.2595 - acc: 0.9955 - val_loss: 2.4403 - val_acc: 0.3273 - lr: 0.0010\n",
            "Epoch 85/100\n",
            "1/1 [==============================] - 0s 46ms/step - loss: 1.2869 - acc: 0.9909 - val_loss: 2.4825 - val_acc: 0.3273 - lr: 0.0010\n",
            "Epoch 86/100\n",
            "1/1 [==============================] - 0s 46ms/step - loss: 1.3345 - acc: 1.0000 - val_loss: 2.5308 - val_acc: 0.3273 - lr: 0.0010\n",
            "Epoch 87/100\n",
            "1/1 [==============================] - 0s 46ms/step - loss: 1.4000 - acc: 1.0000 - val_loss: 2.5611 - val_acc: 0.3273 - lr: 0.0010\n",
            "Epoch 88/100\n",
            "1/1 [==============================] - 0s 58ms/step - loss: 1.4580 - acc: 1.0000 - val_loss: 2.5729 - val_acc: 0.3273 - lr: 0.0010\n",
            "Epoch 89/100\n",
            "1/1 [==============================] - 0s 45ms/step - loss: 1.4960 - acc: 1.0000 - val_loss: 2.5535 - val_acc: 0.3273 - lr: 0.0010\n",
            "Epoch 90/100\n",
            "1/1 [==============================] - 0s 45ms/step - loss: 1.4880 - acc: 1.0000 - val_loss: 2.5010 - val_acc: 0.3273 - lr: 0.0010\n",
            "Epoch 91/100\n",
            "1/1 [==============================] - 0s 45ms/step - loss: 1.4497 - acc: 0.9955 - val_loss: 2.4263 - val_acc: 0.3273 - lr: 0.0010\n",
            "Epoch 92/100\n",
            "1/1 [==============================] - 0s 43ms/step - loss: 1.3659 - acc: 1.0000 - val_loss: 2.3344 - val_acc: 0.3273 - lr: 0.0010\n",
            "Epoch 93/100\n",
            "1/1 [==============================] - 0s 44ms/step - loss: 1.2642 - acc: 1.0000 - val_loss: 2.2318 - val_acc: 0.3273 - lr: 0.0010\n",
            "Epoch 94/100\n",
            "1/1 [==============================] - 0s 45ms/step - loss: 1.1575 - acc: 0.9955 - val_loss: 2.1388 - val_acc: 0.3273 - lr: 0.0010\n",
            "Epoch 95/100\n",
            "1/1 [==============================] - 0s 48ms/step - loss: 1.0473 - acc: 0.9955 - val_loss: 2.0707 - val_acc: 0.3273 - lr: 0.0010\n",
            "Epoch 96/100\n",
            "1/1 [==============================] - 0s 47ms/step - loss: 0.9666 - acc: 0.9955 - val_loss: 2.1073 - val_acc: 0.3273 - lr: 0.0010\n",
            "Epoch 97/100\n",
            "1/1 [==============================] - 0s 45ms/step - loss: 0.9188 - acc: 0.9955 - val_loss: 2.1786 - val_acc: 0.3273 - lr: 0.0010\n",
            "Epoch 98/100\n",
            "1/1 [==============================] - 0s 49ms/step - loss: 0.9655 - acc: 0.9864 - val_loss: 2.2048 - val_acc: 0.3273 - lr: 0.0010\n",
            "Epoch 99/100\n",
            "1/1 [==============================] - 0s 44ms/step - loss: 1.0419 - acc: 0.9818 - val_loss: 2.2632 - val_acc: 0.3273 - lr: 0.0010\n",
            "Epoch 100/100\n",
            "1/1 [==============================] - 0s 48ms/step - loss: 1.2000 - acc: 0.9909 - val_loss: 2.4825 - val_acc: 0.4182 - lr: 0.0010\n"
          ],
          "name": "stdout"
        }
      ]
    },
    {
      "cell_type": "code",
      "metadata": {
        "id": "ZYVup4D6LdlK",
        "colab_type": "code",
        "outputId": "3a7a9ac1-3a0f-4a02-d907-037f71729712",
        "colab": {
          "base_uri": "https://localhost:8080/",
          "height": 545
        }
      },
      "source": [
        "plt.plot(history.history['acc'])\n",
        "plt.plot(history.history['val_acc'])\n",
        "plt.title('Accuracy')\n",
        "plt.show()\n",
        "\n",
        "plt.plot(history.history['loss'])\n",
        "plt.plot(history.history['val_loss'])\n",
        "plt.title('Loss')\n",
        "plt.show()"
      ],
      "execution_count": 56,
      "outputs": [
        {
          "output_type": "display_data",
          "data": {
            "image/png": "[encoded data removed]",
            "text/plain": [
              "<Figure size 432x288 with 1 Axes>"
            ]
          },
          "metadata": {
            "tags": [],
            "needs_background": "light"
          }
        },
        {
          "output_type": "display_data",
          "data": {
            "image/png": "[encoded data removed]",
            "text/plain": [
              "<Figure size 432x288 with 1 Axes>"
            ]
          },
          "metadata": {
            "tags": [],
            "needs_background": "light"
          }
        }
      ]
    },
    {
      "cell_type": "code",
      "metadata": {
        "id": "a9HrHizJcPzh",
        "colab_type": "code",
        "colab": {}
      },
      "source": [
        ""
      ],
      "execution_count": 0,
      "outputs": []
    }
  ]
}