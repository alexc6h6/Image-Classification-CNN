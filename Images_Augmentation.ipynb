{
  "nbformat": 4,
  "nbformat_minor": 0,
  "metadata": {
    "colab": {
      "name": "*Images Augmentation.ipynb",
      "provenance": [],
      "collapsed_sections": [],
      "authorship_tag": "ABX9TyOEPCGa4y5UEHLc6vkYo2l4",
      "include_colab_link": true
    },
    "kernelspec": {
      "name": "python3",
      "display_name": "Python 3"
    },
    "accelerator": "GPU"
  },
  "cells": [
    {
      "cell_type": "markdown",
      "metadata": {
        "id": "view-in-github",
        "colab_type": "text"
      },
      "source": [
        "<a href=\"https://colab.research.google.com/github/alexc6h6/Image-Classification-CNN/blob/master/Images_Augmentation.ipynb\" target=\"_parent\"><img src=\"https://colab.research.google.com/assets/colab-badge.svg\" alt=\"Open In Colab\"/></a>"
      ]
    },
    {
      "cell_type": "markdown",
      "metadata": {
        "id": "Bbd5SPkzA8Vf",
        "colab_type": "text"
      },
      "source": [
        "# Images Augmentation & Image Classification\n",
        "\n",
        "This dataset contains images of hand gestures from the Rock-Paper-Scissors game. There are 2,083 images for training, 105 images for validation.\n",
        "\n",
        "Image augmentation are applied to generate more training images by rotation, change the width or height, shear, zoom and flip the images. Using augmentation images in CNN model can increase the accuracy in training set and validaton set.\n"
      ]
    },
    {
      "cell_type": "code",
      "metadata": {
        "id": "OEvwQhGtCAoZ",
        "colab_type": "code",
        "colab": {}
      },
      "source": [
        "#!pip install --upgrade tensorflow"
      ],
      "execution_count": 0,
      "outputs": []
    },
    {
      "cell_type": "code",
      "metadata": {
        "id": "tWSLvCKiAKN3",
        "colab_type": "code",
        "outputId": "d5a01de2-1e62-4b46-fca9-320b1ac01d3a",
        "colab": {
          "base_uri": "https://localhost:8080/",
          "height": 34
        }
      },
      "source": [
        "from google.colab import drive, files\n",
        "import pandas as pd\n",
        "import numpy as np\n",
        "import matplotlib.pyplot as plt\n",
        "import tensorflow as tf\n",
        "import zipfile\n",
        "import os\n",
        "from sklearn.model_selection import train_test_split\n",
        "from tensorflow.keras.utils import to_categorical\n",
        "from tensorflow.keras.preprocessing.image import ImageDataGenerator\n",
        "from tensorflow.keras.callbacks import ReduceLROnPlateau\n",
        "from tensorflow.keras import regularizers\n",
        "\n",
        "print(tf.__version__)"
      ],
      "execution_count": 5,
      "outputs": [
        {
          "output_type": "stream",
          "text": [
            "2.2.0\n"
          ],
          "name": "stdout"
        }
      ]
    },
    {
      "cell_type": "code",
      "metadata": {
        "id": "8kW9OwjhACVd",
        "colab_type": "code",
        "outputId": "1b716bfd-4562-423b-a8ef-ea45ebcc263e",
        "colab": {
          "base_uri": "https://localhost:8080/",
          "height": 34
        }
      },
      "source": [
        "#the dataset has been uploaded in google drive, mounted the linkage to prepare for loading dataset\n",
        "\n",
        "drive.mount('/content/drive')"
      ],
      "execution_count": 6,
      "outputs": [
        {
          "output_type": "stream",
          "text": [
            "Drive already mounted at /content/drive; to attempt to forcibly remount, call drive.mount(\"/content/drive\", force_remount=True).\n"
          ],
          "name": "stdout"
        }
      ]
    },
    {
      "cell_type": "code",
      "metadata": {
        "id": "FmDgtiEmAwwL",
        "colab_type": "code",
        "outputId": "b59c337a-86d1-4487-a33b-1a6efdff1cb5",
        "colab": {
          "base_uri": "https://localhost:8080/",
          "height": 68
        }
      },
      "source": [
        "#setup the path of training image dataset folders\n",
        "\n",
        "train_folder_path = '/content/drive/My Drive/rockpaperscissors/train'\n",
        "\n",
        "train_rock_path = os.path.join(train_folder_path, 'rock')\n",
        "train_paper_path = os.path.join(train_folder_path, 'paper')\n",
        "train_scissors_path = os.path.join(train_folder_path, 'scissors')\n",
        "\n",
        "#caculated the items for each class\n",
        "\n",
        "print(len(os.listdir(train_rock_path)))\n",
        "print(len(os.listdir(train_paper_path)))\n",
        "print(len(os.listdir(train_scissors_path)))"
      ],
      "execution_count": 9,
      "outputs": [
        {
          "output_type": "stream",
          "text": [
            "691\n",
            "677\n",
            "715\n"
          ],
          "name": "stdout"
        }
      ]
    },
    {
      "cell_type": "code",
      "metadata": {
        "id": "9PqxTE92FVCy",
        "colab_type": "code",
        "outputId": "d6299ba4-328a-441a-fa50-b774de83ab77",
        "colab": {
          "base_uri": "https://localhost:8080/",
          "height": 68
        }
      },
      "source": [
        "#setup the path of testing image dataset folders\n",
        "test_folder_path = '/content/drive/My Drive/rockpaperscissors/test'\n",
        "\n",
        "test_rock_path = os.path.join(test_folder_path, 'rock')\n",
        "test_paper_path = os.path.join(test_folder_path, 'paper')\n",
        "test_scissors_path = os.path.join(test_folder_path, 'scissors')\n",
        "\n",
        "print(len(os.listdir(test_rock_path)))\n",
        "print(len(os.listdir(test_paper_path)))\n",
        "print(len(os.listdir(test_scissors_path)))"
      ],
      "execution_count": 13,
      "outputs": [
        {
          "output_type": "stream",
          "text": [
            "35\n",
            "35\n",
            "35\n"
          ],
          "name": "stdout"
        }
      ]
    },
    {
      "cell_type": "code",
      "metadata": {
        "id": "qbCk0szYIRhG",
        "colab_type": "code",
        "colab": {}
      },
      "source": [
        "#datagen = ImageDataGenerator(\n",
        "#        featurewise_center=False,  # set input mean to 0 over the dataset\n",
        "#        samplewise_center=False,  # set each sample mean to 0\n",
        "#        featurewise_std_normalization=False,  # divide inputs by std of the dataset\n",
        "#        samplewise_std_normalization=False,  # divide each input by its std\n",
        "#        zca_whitening=False,  # apply ZCA whitening\n",
        "#        rotation_range=15,  # randomly rotate images in the range (degrees, 0 to 180)\n",
        "#        zoom_range = 0.1, # Randomly zoom image \n",
        "#        width_shift_range=0.1,  # randomly shift images horizontally (fraction of total width)\n",
        "#        height_shift_range=0.1,  # randomly shift images vertically (fraction of total height)\n",
        "#        horizontal_flip=False,  # randomly flip images\n",
        "#        vertical_flip=False)  # randomly flip images\n",
        "\n",
        "#datagen.fit(train_x)"
      ],
      "execution_count": 0,
      "outputs": []
    },
    {
      "cell_type": "code",
      "metadata": {
        "id": "aRNQzJmgD3Ox",
        "colab_type": "code",
        "colab": {}
      },
      "source": [
        "#flow the images dataset and augment the training dataset\n",
        "\n",
        "train_datagen = ImageDataGenerator(rescale = 1/255, \n",
        "                                   rotation_range = 180, \n",
        "                                   width_shift_range = 0.1,\n",
        "                                   height_shift_range = 0.1, \n",
        "                                   zoom_range = 0.1, \n",
        "                                   shear_range = 0.1, \n",
        "                                   horizontal_flip = True)\n",
        "\n",
        "test_datagen = ImageDataGenerator(rescale = 1/255)\n"
      ],
      "execution_count": 0,
      "outputs": []
    },
    {
      "cell_type": "code",
      "metadata": {
        "id": "pJaWO9dZska2",
        "colab_type": "code",
        "colab": {
          "base_uri": "https://localhost:8080/",
          "height": 51
        },
        "outputId": "28cbb708-9702-4c7c-ee16-0b4a3eae8aed"
      },
      "source": [
        "train_generator = train_datagen.flow_from_directory(train_folder_path, \n",
        "                                                    target_size = (75, 50),\n",
        "                                                    batch_size = 128,\n",
        "                                                    class_mode = 'categorical')\n",
        "\n",
        "test_generator = test_datagen.flow_from_directory(test_folder_path,\n",
        "                                                  target_size = (75, 50),\n",
        "                                                  batch_size = 128,\n",
        "                                                  class_mode = 'categorical')"
      ],
      "execution_count": 21,
      "outputs": [
        {
          "output_type": "stream",
          "text": [
            "Found 2083 images belonging to 3 classes.\n",
            "Found 105 images belonging to 3 classes.\n"
          ],
          "name": "stdout"
        }
      ]
    },
    {
      "cell_type": "code",
      "metadata": {
        "id": "VfF47DfSHvbv",
        "colab_type": "code",
        "outputId": "79a1bd35-988e-42be-a577-e33924cb01ff",
        "colab": {
          "base_uri": "https://localhost:8080/",
          "height": 663
        }
      },
      "source": [
        "#generate the CNN model\n",
        "model = tf.keras.models.Sequential([tf.keras.layers.Conv2D(64, (3,3), activation = 'relu',\n",
        "                                                           padding = 'same', strides = 1, input_shape = (75, 50, 3)),\n",
        "                                    tf.keras.layers.MaxPooling2D((2,2)),\n",
        "                                    tf.keras.layers.Dropout(0.25),\n",
        "                                    tf.keras.layers.Conv2D(128, (3,3), activation = 'relu',\n",
        "                                                           padding = 'same', strides = 1),\n",
        "                                    tf.keras.layers.MaxPooling2D((2,2)),\n",
        "                                    tf.keras.layers.Dropout(0.25),\n",
        "                                    tf.keras.layers.Conv2D(256, (3,3), activation = 'relu',\n",
        "                                                           padding = 'same', strides = 1),\n",
        "                                    tf.keras.layers.MaxPooling2D((2,2)),\n",
        "                                    tf.keras.layers.Flatten(),\n",
        "                                    tf.keras.layers.Dropout(0.25),\n",
        "                                    \n",
        "                                    tf.keras.layers.Dense(units = 256),\n",
        "                                    tf.keras.layers.BatchNormalization(),\n",
        "                                    tf.keras.layers.Activation('relu'),\n",
        "                                    tf.keras.layers.Dropout(0.25),\n",
        "                                    tf.keras.layers.Dense(units = 3, activation = 'softmax')])\n",
        "\n",
        "model.compile(optimizer = 'adam', loss = 'categorical_crossentropy', metrics = ['acc'])\n",
        "\n",
        "model.summary()"
      ],
      "execution_count": 22,
      "outputs": [
        {
          "output_type": "stream",
          "text": [
            "Model: \"sequential_1\"\n",
            "_________________________________________________________________\n",
            "Layer (type)                 Output Shape              Param #   \n",
            "=================================================================\n",
            "conv2d_3 (Conv2D)            (None, 75, 50, 64)        1792      \n",
            "_________________________________________________________________\n",
            "max_pooling2d_3 (MaxPooling2 (None, 37, 25, 64)        0         \n",
            "_________________________________________________________________\n",
            "dropout_4 (Dropout)          (None, 37, 25, 64)        0         \n",
            "_________________________________________________________________\n",
            "conv2d_4 (Conv2D)            (None, 37, 25, 128)       73856     \n",
            "_________________________________________________________________\n",
            "max_pooling2d_4 (MaxPooling2 (None, 18, 12, 128)       0         \n",
            "_________________________________________________________________\n",
            "dropout_5 (Dropout)          (None, 18, 12, 128)       0         \n",
            "_________________________________________________________________\n",
            "conv2d_5 (Conv2D)            (None, 18, 12, 256)       295168    \n",
            "_________________________________________________________________\n",
            "max_pooling2d_5 (MaxPooling2 (None, 9, 6, 256)         0         \n",
            "_________________________________________________________________\n",
            "flatten_1 (Flatten)          (None, 13824)             0         \n",
            "_________________________________________________________________\n",
            "dropout_6 (Dropout)          (None, 13824)             0         \n",
            "_________________________________________________________________\n",
            "dense_2 (Dense)              (None, 256)               3539200   \n",
            "_________________________________________________________________\n",
            "batch_normalization_1 (Batch (None, 256)               1024      \n",
            "_________________________________________________________________\n",
            "activation_1 (Activation)    (None, 256)               0         \n",
            "_________________________________________________________________\n",
            "dropout_7 (Dropout)          (None, 256)               0         \n",
            "_________________________________________________________________\n",
            "dense_3 (Dense)              (None, 3)                 771       \n",
            "=================================================================\n",
            "Total params: 3,911,811\n",
            "Trainable params: 3,911,299\n",
            "Non-trainable params: 512\n",
            "_________________________________________________________________\n"
          ],
          "name": "stdout"
        }
      ]
    },
    {
      "cell_type": "code",
      "metadata": {
        "id": "NIm5KHbcLUwV",
        "colab_type": "code",
        "colab": {}
      },
      "source": [
        "#reduce learning rate on plateau\n",
        "reduce_lr = ReduceLROnPlateau(monitor = 'val_loss',\n",
        "                              patience = 5,\n",
        "                              verbose = 1,\n",
        "                              min_lr = 0.000001,\n",
        "                              factor = 0.033)"
      ],
      "execution_count": 0,
      "outputs": []
    },
    {
      "cell_type": "code",
      "metadata": {
        "id": "I_Y-nK3KK6wk",
        "colab_type": "code",
        "outputId": "b1ba56fa-8221-400f-a98b-fd56b455db3c",
        "colab": {
          "base_uri": "https://localhost:8080/",
          "height": 1000
        }
      },
      "source": [
        "#training model\n",
        "\n",
        "epochs = 50\n",
        "\n",
        "history = model.fit_generator(train_generator,\n",
        "                              epochs = epochs,\n",
        "                              verbose = 1,\n",
        "                              callbacks = [reduce_lr],\n",
        "                              validation_data = test_generator)"
      ],
      "execution_count": 24,
      "outputs": [
        {
          "output_type": "stream",
          "text": [
            "Epoch 1/50\n",
            "17/17 [==============================] - 11s 664ms/step - loss: 1.2576 - acc: 0.4450 - val_loss: 1.0344 - val_acc: 0.4667 - lr: 0.0010\n",
            "Epoch 2/50\n",
            "17/17 [==============================] - 11s 648ms/step - loss: 1.0570 - acc: 0.5396 - val_loss: 0.9605 - val_acc: 0.5333 - lr: 0.0010\n",
            "Epoch 3/50\n",
            "17/17 [==============================] - 11s 621ms/step - loss: 0.8436 - acc: 0.6227 - val_loss: 0.9030 - val_acc: 0.6286 - lr: 0.0010\n",
            "Epoch 4/50\n",
            "17/17 [==============================] - 11s 619ms/step - loss: 0.6488 - acc: 0.7384 - val_loss: 0.8828 - val_acc: 0.5905 - lr: 0.0010\n",
            "Epoch 5/50\n",
            "17/17 [==============================] - 10s 616ms/step - loss: 0.4752 - acc: 0.8123 - val_loss: 0.7813 - val_acc: 0.6095 - lr: 0.0010\n",
            "Epoch 6/50\n",
            "17/17 [==============================] - 11s 618ms/step - loss: 0.3752 - acc: 0.8656 - val_loss: 0.8862 - val_acc: 0.3810 - lr: 0.0010\n",
            "Epoch 7/50\n",
            "17/17 [==============================] - 11s 624ms/step - loss: 0.3291 - acc: 0.8901 - val_loss: 0.6662 - val_acc: 0.9619 - lr: 0.0010\n",
            "Epoch 8/50\n",
            "17/17 [==============================] - 11s 642ms/step - loss: 0.2358 - acc: 0.9121 - val_loss: 0.6119 - val_acc: 0.6571 - lr: 0.0010\n",
            "Epoch 9/50\n",
            "17/17 [==============================] - 11s 618ms/step - loss: 0.1855 - acc: 0.9361 - val_loss: 0.5524 - val_acc: 0.8952 - lr: 0.0010\n",
            "Epoch 10/50\n",
            "17/17 [==============================] - 11s 646ms/step - loss: 0.1681 - acc: 0.9448 - val_loss: 0.7846 - val_acc: 0.5524 - lr: 0.0010\n",
            "Epoch 11/50\n",
            "17/17 [==============================] - 11s 620ms/step - loss: 0.1457 - acc: 0.9501 - val_loss: 0.4998 - val_acc: 0.8952 - lr: 0.0010\n",
            "Epoch 12/50\n",
            "17/17 [==============================] - 11s 648ms/step - loss: 0.1330 - acc: 0.9554 - val_loss: 0.5584 - val_acc: 0.7429 - lr: 0.0010\n",
            "Epoch 13/50\n",
            "17/17 [==============================] - 11s 619ms/step - loss: 0.1357 - acc: 0.9530 - val_loss: 0.4022 - val_acc: 0.9429 - lr: 0.0010\n",
            "Epoch 14/50\n",
            "17/17 [==============================] - 11s 618ms/step - loss: 0.1237 - acc: 0.9592 - val_loss: 0.3400 - val_acc: 0.9524 - lr: 0.0010\n",
            "Epoch 15/50\n",
            "17/17 [==============================] - 11s 645ms/step - loss: 0.1101 - acc: 0.9650 - val_loss: 0.4683 - val_acc: 0.8286 - lr: 0.0010\n",
            "Epoch 16/50\n",
            "17/17 [==============================] - 11s 640ms/step - loss: 0.0779 - acc: 0.9746 - val_loss: 0.2845 - val_acc: 0.9619 - lr: 0.0010\n",
            "Epoch 17/50\n",
            "17/17 [==============================] - 11s 618ms/step - loss: 0.0879 - acc: 0.9702 - val_loss: 0.2431 - val_acc: 0.9619 - lr: 0.0010\n",
            "Epoch 18/50\n",
            "17/17 [==============================] - 10s 617ms/step - loss: 0.0680 - acc: 0.9784 - val_loss: 0.2812 - val_acc: 0.9238 - lr: 0.0010\n",
            "Epoch 19/50\n",
            "17/17 [==============================] - 10s 615ms/step - loss: 0.0600 - acc: 0.9822 - val_loss: 0.1637 - val_acc: 0.9810 - lr: 0.0010\n",
            "Epoch 20/50\n",
            "17/17 [==============================] - 11s 648ms/step - loss: 0.0509 - acc: 0.9842 - val_loss: 0.1023 - val_acc: 0.9905 - lr: 0.0010\n",
            "Epoch 21/50\n",
            "17/17 [==============================] - 10s 616ms/step - loss: 0.0463 - acc: 0.9866 - val_loss: 0.1096 - val_acc: 0.9905 - lr: 0.0010\n",
            "Epoch 22/50\n",
            "17/17 [==============================] - 10s 617ms/step - loss: 0.0415 - acc: 0.9856 - val_loss: 0.1504 - val_acc: 0.9524 - lr: 0.0010\n",
            "Epoch 23/50\n",
            "17/17 [==============================] - 11s 621ms/step - loss: 0.0503 - acc: 0.9837 - val_loss: 0.0424 - val_acc: 1.0000 - lr: 0.0010\n",
            "Epoch 24/50\n",
            "17/17 [==============================] - 11s 622ms/step - loss: 0.0436 - acc: 0.9837 - val_loss: 0.1294 - val_acc: 0.9714 - lr: 0.0010\n",
            "Epoch 25/50\n",
            "17/17 [==============================] - 11s 627ms/step - loss: 0.0600 - acc: 0.9798 - val_loss: 0.2981 - val_acc: 0.8762 - lr: 0.0010\n",
            "Epoch 26/50\n",
            "17/17 [==============================] - 11s 621ms/step - loss: 0.0478 - acc: 0.9861 - val_loss: 0.0755 - val_acc: 0.9810 - lr: 0.0010\n",
            "Epoch 27/50\n",
            "17/17 [==============================] - 11s 623ms/step - loss: 0.0457 - acc: 0.9842 - val_loss: 0.0488 - val_acc: 0.9905 - lr: 0.0010\n",
            "Epoch 28/50\n",
            "17/17 [==============================] - ETA: 0s - loss: 0.0413 - acc: 0.9909\n",
            "Epoch 00028: ReduceLROnPlateau reducing learning rate to 3.30000015674159e-05.\n",
            "17/17 [==============================] - 11s 624ms/step - loss: 0.0413 - acc: 0.9909 - val_loss: 0.0512 - val_acc: 0.9905 - lr: 0.0010\n",
            "Epoch 29/50\n",
            "17/17 [==============================] - 11s 622ms/step - loss: 0.0392 - acc: 0.9885 - val_loss: 0.0357 - val_acc: 1.0000 - lr: 3.3000e-05\n",
            "Epoch 30/50\n",
            "17/17 [==============================] - 10s 618ms/step - loss: 0.0297 - acc: 0.9914 - val_loss: 0.0193 - val_acc: 1.0000 - lr: 3.3000e-05\n",
            "Epoch 31/50\n",
            "17/17 [==============================] - 11s 625ms/step - loss: 0.0255 - acc: 0.9918 - val_loss: 0.0205 - val_acc: 1.0000 - lr: 3.3000e-05\n",
            "Epoch 32/50\n",
            "17/17 [==============================] - 11s 618ms/step - loss: 0.0338 - acc: 0.9899 - val_loss: 0.0109 - val_acc: 1.0000 - lr: 3.3000e-05\n",
            "Epoch 33/50\n",
            "17/17 [==============================] - 10s 617ms/step - loss: 0.0276 - acc: 0.9933 - val_loss: 0.0067 - val_acc: 1.0000 - lr: 3.3000e-05\n",
            "Epoch 34/50\n",
            "17/17 [==============================] - 11s 618ms/step - loss: 0.0265 - acc: 0.9933 - val_loss: 0.0065 - val_acc: 1.0000 - lr: 3.3000e-05\n",
            "Epoch 35/50\n",
            "17/17 [==============================] - 11s 648ms/step - loss: 0.0221 - acc: 0.9923 - val_loss: 0.0083 - val_acc: 1.0000 - lr: 3.3000e-05\n",
            "Epoch 36/50\n",
            "17/17 [==============================] - 10s 618ms/step - loss: 0.0312 - acc: 0.9894 - val_loss: 0.0076 - val_acc: 1.0000 - lr: 3.3000e-05\n",
            "Epoch 37/50\n",
            "17/17 [==============================] - 11s 620ms/step - loss: 0.0238 - acc: 0.9933 - val_loss: 0.0086 - val_acc: 1.0000 - lr: 3.3000e-05\n",
            "Epoch 38/50\n",
            "17/17 [==============================] - 11s 618ms/step - loss: 0.0271 - acc: 0.9909 - val_loss: 0.0075 - val_acc: 1.0000 - lr: 3.3000e-05\n",
            "Epoch 39/50\n",
            "17/17 [==============================] - 11s 618ms/step - loss: 0.0227 - acc: 0.9933 - val_loss: 0.0044 - val_acc: 1.0000 - lr: 3.3000e-05\n",
            "Epoch 40/50\n",
            "17/17 [==============================] - 11s 624ms/step - loss: 0.0259 - acc: 0.9928 - val_loss: 0.0039 - val_acc: 1.0000 - lr: 3.3000e-05\n",
            "Epoch 41/50\n",
            "17/17 [==============================] - 11s 623ms/step - loss: 0.0246 - acc: 0.9933 - val_loss: 0.0039 - val_acc: 1.0000 - lr: 3.3000e-05\n",
            "Epoch 42/50\n",
            "17/17 [==============================] - 11s 621ms/step - loss: 0.0205 - acc: 0.9947 - val_loss: 0.0065 - val_acc: 1.0000 - lr: 3.3000e-05\n",
            "Epoch 43/50\n",
            "17/17 [==============================] - 11s 668ms/step - loss: 0.0248 - acc: 0.9933 - val_loss: 0.0056 - val_acc: 1.0000 - lr: 3.3000e-05\n",
            "Epoch 44/50\n",
            "17/17 [==============================] - 11s 621ms/step - loss: 0.0266 - acc: 0.9914 - val_loss: 0.0035 - val_acc: 1.0000 - lr: 3.3000e-05\n",
            "Epoch 45/50\n",
            "17/17 [==============================] - 11s 620ms/step - loss: 0.0236 - acc: 0.9938 - val_loss: 0.0057 - val_acc: 1.0000 - lr: 3.3000e-05\n",
            "Epoch 46/50\n",
            "17/17 [==============================] - 10s 615ms/step - loss: 0.0206 - acc: 0.9947 - val_loss: 0.0056 - val_acc: 1.0000 - lr: 3.3000e-05\n",
            "Epoch 47/50\n",
            "17/17 [==============================] - 11s 619ms/step - loss: 0.0206 - acc: 0.9952 - val_loss: 0.0072 - val_acc: 1.0000 - lr: 3.3000e-05\n",
            "Epoch 48/50\n",
            "17/17 [==============================] - 11s 619ms/step - loss: 0.0281 - acc: 0.9899 - val_loss: 0.0039 - val_acc: 1.0000 - lr: 3.3000e-05\n",
            "Epoch 49/50\n",
            "17/17 [==============================] - ETA: 0s - loss: 0.0266 - acc: 0.9909\n",
            "Epoch 00049: ReduceLROnPlateau reducing learning rate to 1.0890000085055363e-06.\n",
            "17/17 [==============================] - 10s 613ms/step - loss: 0.0266 - acc: 0.9909 - val_loss: 0.0038 - val_acc: 1.0000 - lr: 3.3000e-05\n",
            "Epoch 50/50\n",
            "17/17 [==============================] - 11s 619ms/step - loss: 0.0221 - acc: 0.9938 - val_loss: 0.0039 - val_acc: 1.0000 - lr: 1.0890e-06\n"
          ],
          "name": "stdout"
        }
      ]
    },
    {
      "cell_type": "code",
      "metadata": {
        "id": "ipXKYh8bKcEP",
        "colab_type": "code",
        "outputId": "fea72a32-12e8-4179-d69e-cbe58f8a6811",
        "colab": {
          "base_uri": "https://localhost:8080/",
          "height": 579
        }
      },
      "source": [
        "#plot training history\n",
        "\n",
        "import matplotlib.pyplot as plt\n",
        "\n",
        "plt.plot(history.history['acc'], 'r')\n",
        "plt.plot(history.history['val_acc'], 'b')\n",
        "plt.title('Accuracy')\n",
        "plt.show()\n",
        "\n",
        "plt.plot(history.history['loss'], 'r')\n",
        "plt.plot(history.history['val_loss'], 'b')\n",
        "plt.title('Loss')\n",
        "plt.show()\n",
        "\n",
        "print('Training Accuracy' + str(history.history['acc'][-1]))\n",
        "print('Validation Accuracy' + str(history.history['val_acc'][-1]))"
      ],
      "execution_count": 0,
      "outputs": [
        {
          "output_type": "display_data",
          "data": {
            "image/png": "[encoded data removed]",
            "text/plain": [
              "<Figure size 432x288 with 1 Axes>"
            ]
          },
          "metadata": {
            "tags": []
          }
        },
        {
          "output_type": "display_data",
          "data": {
            "image/png": "[encoded data removed]",
            "text/plain": [
              "<Figure size 432x288 with 1 Axes>"
            ]
          },
          "metadata": {
            "tags": []
          }
        },
        {
          "output_type": "stream",
          "text": [
            "0.993759\n",
            "1.0\n"
          ],
          "name": "stdout"
        }
      ]
    }
  ]
}